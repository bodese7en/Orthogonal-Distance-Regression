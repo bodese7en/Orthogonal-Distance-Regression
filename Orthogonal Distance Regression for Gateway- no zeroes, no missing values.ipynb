{
 "cells": [
  {
   "cell_type": "code",
   "execution_count": 1,
   "id": "f883c571",
   "metadata": {},
   "outputs": [],
   "source": [
    "import pandas as pd\n",
    "import numpy as np\n",
    "import seaborn as sns\n",
    "import matplotlib.pyplot as plt\n",
    "import missingno as msno\n",
    "import plotly.express as px"
   ]
  },
  {
   "cell_type": "code",
   "execution_count": 2,
   "id": "a6088205",
   "metadata": {},
   "outputs": [
    {
     "data": {
      "text/html": [
       "<div>\n",
       "<style scoped>\n",
       "    .dataframe tbody tr th:only-of-type {\n",
       "        vertical-align: middle;\n",
       "    }\n",
       "\n",
       "    .dataframe tbody tr th {\n",
       "        vertical-align: top;\n",
       "    }\n",
       "\n",
       "    .dataframe thead th {\n",
       "        text-align: right;\n",
       "    }\n",
       "</style>\n",
       "<table border=\"1\" class=\"dataframe\">\n",
       "  <thead>\n",
       "    <tr style=\"text-align: right;\">\n",
       "      <th></th>\n",
       "      <th>Date &amp; Time</th>\n",
       "      <th>Gateway_Rain(mm)</th>\n",
       "      <th>Newland_001_Rain(mm)</th>\n",
       "      <th>Library_001_Rain(mm)</th>\n",
       "      <th>Salmon_001_Rain(mm)</th>\n",
       "      <th>Sports_001_Rain(mm)</th>\n",
       "      <th>Venn_001_Rain(mm)</th>\n",
       "      <th>Westfield_002_Rain(mm)</th>\n",
       "      <th>Wilberforce_001_Rain(mm)</th>\n",
       "    </tr>\n",
       "  </thead>\n",
       "  <tbody>\n",
       "    <tr>\n",
       "      <th>0</th>\n",
       "      <td>01/04/2022 00:00</td>\n",
       "      <td>0</td>\n",
       "      <td>0</td>\n",
       "      <td>0</td>\n",
       "      <td>0</td>\n",
       "      <td>0</td>\n",
       "      <td>0</td>\n",
       "      <td>0</td>\n",
       "      <td>0</td>\n",
       "    </tr>\n",
       "    <tr>\n",
       "      <th>1</th>\n",
       "      <td>01/04/2022 00:05</td>\n",
       "      <td>0</td>\n",
       "      <td>0.2</td>\n",
       "      <td>0</td>\n",
       "      <td>0</td>\n",
       "      <td>0</td>\n",
       "      <td>0</td>\n",
       "      <td>0</td>\n",
       "      <td>0</td>\n",
       "    </tr>\n",
       "    <tr>\n",
       "      <th>2</th>\n",
       "      <td>01/04/2022 00:10</td>\n",
       "      <td>0</td>\n",
       "      <td>0</td>\n",
       "      <td>0</td>\n",
       "      <td>0</td>\n",
       "      <td>0</td>\n",
       "      <td>0</td>\n",
       "      <td>0</td>\n",
       "      <td>0</td>\n",
       "    </tr>\n",
       "    <tr>\n",
       "      <th>3</th>\n",
       "      <td>01/04/2022 00:15</td>\n",
       "      <td>0</td>\n",
       "      <td>0</td>\n",
       "      <td>0</td>\n",
       "      <td>0</td>\n",
       "      <td>0</td>\n",
       "      <td>0</td>\n",
       "      <td>0</td>\n",
       "      <td>0</td>\n",
       "    </tr>\n",
       "    <tr>\n",
       "      <th>4</th>\n",
       "      <td>01/04/2022 00:20</td>\n",
       "      <td>0</td>\n",
       "      <td>0</td>\n",
       "      <td>0</td>\n",
       "      <td>0</td>\n",
       "      <td>0</td>\n",
       "      <td>0</td>\n",
       "      <td>0</td>\n",
       "      <td>0</td>\n",
       "    </tr>\n",
       "    <tr>\n",
       "      <th>...</th>\n",
       "      <td>...</td>\n",
       "      <td>...</td>\n",
       "      <td>...</td>\n",
       "      <td>...</td>\n",
       "      <td>...</td>\n",
       "      <td>...</td>\n",
       "      <td>...</td>\n",
       "      <td>...</td>\n",
       "      <td>...</td>\n",
       "    </tr>\n",
       "    <tr>\n",
       "      <th>117592</th>\n",
       "      <td>14/05/2023 08:25</td>\n",
       "      <td>0</td>\n",
       "      <td>0</td>\n",
       "      <td>0</td>\n",
       "      <td>0</td>\n",
       "      <td>0</td>\n",
       "      <td>0</td>\n",
       "      <td>0</td>\n",
       "      <td>0</td>\n",
       "    </tr>\n",
       "    <tr>\n",
       "      <th>117593</th>\n",
       "      <td>14/05/2023 08:30</td>\n",
       "      <td>0</td>\n",
       "      <td>0</td>\n",
       "      <td>0</td>\n",
       "      <td>0</td>\n",
       "      <td>0</td>\n",
       "      <td>0</td>\n",
       "      <td>0</td>\n",
       "      <td>0</td>\n",
       "    </tr>\n",
       "    <tr>\n",
       "      <th>117594</th>\n",
       "      <td>14/05/2023 08:35</td>\n",
       "      <td>0</td>\n",
       "      <td>0</td>\n",
       "      <td>0</td>\n",
       "      <td>0</td>\n",
       "      <td>0</td>\n",
       "      <td>0</td>\n",
       "      <td>0</td>\n",
       "      <td>--</td>\n",
       "    </tr>\n",
       "    <tr>\n",
       "      <th>117595</th>\n",
       "      <td>14/05/2023 08:40</td>\n",
       "      <td>0</td>\n",
       "      <td>--</td>\n",
       "      <td>0</td>\n",
       "      <td>0</td>\n",
       "      <td>0</td>\n",
       "      <td>0</td>\n",
       "      <td>0</td>\n",
       "      <td>0</td>\n",
       "    </tr>\n",
       "    <tr>\n",
       "      <th>117596</th>\n",
       "      <td>14/05/2023 08:45</td>\n",
       "      <td>0</td>\n",
       "      <td>0</td>\n",
       "      <td>0</td>\n",
       "      <td>--</td>\n",
       "      <td>0</td>\n",
       "      <td>0</td>\n",
       "      <td>0</td>\n",
       "      <td>0</td>\n",
       "    </tr>\n",
       "  </tbody>\n",
       "</table>\n",
       "<p>117597 rows × 9 columns</p>\n",
       "</div>"
      ],
      "text/plain": [
       "             Date & Time Gateway_Rain(mm) Newland_001_Rain(mm)   \n",
       "0       01/04/2022 00:00                0                    0  \\\n",
       "1       01/04/2022 00:05                0                  0.2   \n",
       "2       01/04/2022 00:10                0                    0   \n",
       "3       01/04/2022 00:15                0                    0   \n",
       "4       01/04/2022 00:20                0                    0   \n",
       "...                  ...              ...                  ...   \n",
       "117592  14/05/2023 08:25                0                    0   \n",
       "117593  14/05/2023 08:30                0                    0   \n",
       "117594  14/05/2023 08:35                0                    0   \n",
       "117595  14/05/2023 08:40                0                   --   \n",
       "117596  14/05/2023 08:45                0                    0   \n",
       "\n",
       "       Library_001_Rain(mm) Salmon_001_Rain(mm) Sports_001_Rain(mm)   \n",
       "0                         0                   0                   0  \\\n",
       "1                         0                   0                   0   \n",
       "2                         0                   0                   0   \n",
       "3                         0                   0                   0   \n",
       "4                         0                   0                   0   \n",
       "...                     ...                 ...                 ...   \n",
       "117592                    0                   0                   0   \n",
       "117593                    0                   0                   0   \n",
       "117594                    0                   0                   0   \n",
       "117595                    0                   0                   0   \n",
       "117596                    0                  --                   0   \n",
       "\n",
       "       Venn_001_Rain(mm) Westfield_002_Rain(mm) Wilberforce_001_Rain(mm)  \n",
       "0                      0                      0                        0  \n",
       "1                      0                      0                        0  \n",
       "2                      0                      0                        0  \n",
       "3                      0                      0                        0  \n",
       "4                      0                      0                        0  \n",
       "...                  ...                    ...                      ...  \n",
       "117592                 0                      0                        0  \n",
       "117593                 0                      0                        0  \n",
       "117594                 0                      0                       --  \n",
       "117595                 0                      0                        0  \n",
       "117596                 0                      0                        0  \n",
       "\n",
       "[117597 rows x 9 columns]"
      ]
     },
     "execution_count": 2,
     "metadata": {},
     "output_type": "execute_result"
    }
   ],
   "source": [
    "df =  pd.read_csv('April 2022 to May 2023 for ODG.csv')\n",
    "df"
   ]
  },
  {
   "cell_type": "code",
   "execution_count": 3,
   "id": "6fd3bf2e",
   "metadata": {},
   "outputs": [
    {
     "name": "stdout",
     "output_type": "stream",
     "text": [
      "<class 'pandas.core.frame.DataFrame'>\n",
      "RangeIndex: 117597 entries, 0 to 117596\n",
      "Data columns (total 9 columns):\n",
      " #   Column                    Non-Null Count   Dtype \n",
      "---  ------                    --------------   ----- \n",
      " 0   Date & Time               117597 non-null  object\n",
      " 1   Gateway_Rain(mm)          117597 non-null  object\n",
      " 2   Newland_001_Rain(mm)      117597 non-null  object\n",
      " 3   Library_001_Rain(mm)      117597 non-null  object\n",
      " 4   Salmon_001_Rain(mm)       117597 non-null  object\n",
      " 5   Sports_001_Rain(mm)       117597 non-null  object\n",
      " 6   Venn_001_Rain(mm)         117597 non-null  object\n",
      " 7   Westfield_002_Rain(mm)    117597 non-null  object\n",
      " 8   Wilberforce_001_Rain(mm)  117597 non-null  object\n",
      "dtypes: object(9)\n",
      "memory usage: 8.1+ MB\n"
     ]
    }
   ],
   "source": [
    "df.info()"
   ]
  },
  {
   "cell_type": "code",
   "execution_count": 4,
   "id": "a7c79bb1",
   "metadata": {},
   "outputs": [
    {
     "data": {
      "text/plain": [
       "array(['0', '0.2', '--', '0.4', '0.6', '0.8', '1', '2.8', '5.2', '1.2',\n",
       "       '2', '1.4', '1.8', '1.6'], dtype=object)"
      ]
     },
     "execution_count": 4,
     "metadata": {},
     "output_type": "execute_result"
    }
   ],
   "source": [
    "df['Westfield_002_Rain(mm)'].unique()"
   ]
  },
  {
   "cell_type": "code",
   "execution_count": 5,
   "id": "ab6f4532",
   "metadata": {},
   "outputs": [
    {
     "data": {
      "text/plain": [
       "0         01/04/2022 00:00\n",
       "1         01/04/2022 00:05\n",
       "2         01/04/2022 00:10\n",
       "3         01/04/2022 00:15\n",
       "4         01/04/2022 00:20\n",
       "                ...       \n",
       "117592    14/05/2023 08:25\n",
       "117593    14/05/2023 08:30\n",
       "117594    14/05/2023 08:35\n",
       "117595    14/05/2023 08:40\n",
       "117596    14/05/2023 08:45\n",
       "Name: Date & Time, Length: 117597, dtype: object"
      ]
     },
     "execution_count": 5,
     "metadata": {},
     "output_type": "execute_result"
    }
   ],
   "source": [
    "a = df['Date & Time']\n",
    "a"
   ]
  },
  {
   "cell_type": "code",
   "execution_count": 6,
   "id": "8c64d7ca",
   "metadata": {},
   "outputs": [
    {
     "data": {
      "text/plain": [
       "0           0\n",
       "1         0.2\n",
       "2           0\n",
       "3           0\n",
       "4           0\n",
       "         ... \n",
       "117592      0\n",
       "117593      0\n",
       "117594      0\n",
       "117595     --\n",
       "117596      0\n",
       "Name: Newland_001_Rain(mm), Length: 117597, dtype: object"
      ]
     },
     "execution_count": 6,
     "metadata": {},
     "output_type": "execute_result"
    }
   ],
   "source": [
    "b = df['Newland_001_Rain(mm)']\n",
    "b"
   ]
  },
  {
   "cell_type": "code",
   "execution_count": 7,
   "id": "00f0929c",
   "metadata": {},
   "outputs": [
    {
     "data": {
      "text/plain": [
       "0         0\n",
       "1         0\n",
       "2         0\n",
       "3         0\n",
       "4         0\n",
       "         ..\n",
       "117592    0\n",
       "117593    0\n",
       "117594    0\n",
       "117595    0\n",
       "117596    0\n",
       "Name: Library_001_Rain(mm), Length: 117597, dtype: object"
      ]
     },
     "execution_count": 7,
     "metadata": {},
     "output_type": "execute_result"
    }
   ],
   "source": [
    "c= df['Library_001_Rain(mm)']\n",
    "c"
   ]
  },
  {
   "cell_type": "code",
   "execution_count": 8,
   "id": "c21ba88e",
   "metadata": {},
   "outputs": [
    {
     "data": {
      "text/plain": [
       "0          0\n",
       "1          0\n",
       "2          0\n",
       "3          0\n",
       "4          0\n",
       "          ..\n",
       "117592     0\n",
       "117593     0\n",
       "117594     0\n",
       "117595     0\n",
       "117596    --\n",
       "Name: Salmon_001_Rain(mm), Length: 117597, dtype: object"
      ]
     },
     "execution_count": 8,
     "metadata": {},
     "output_type": "execute_result"
    }
   ],
   "source": [
    "d= df['Salmon_001_Rain(mm)']\n",
    "d"
   ]
  },
  {
   "cell_type": "code",
   "execution_count": 9,
   "id": "3153ebc3",
   "metadata": {},
   "outputs": [
    {
     "data": {
      "text/plain": [
       "0         0\n",
       "1         0\n",
       "2         0\n",
       "3         0\n",
       "4         0\n",
       "         ..\n",
       "117592    0\n",
       "117593    0\n",
       "117594    0\n",
       "117595    0\n",
       "117596    0\n",
       "Name: Sports_001_Rain(mm), Length: 117597, dtype: object"
      ]
     },
     "execution_count": 9,
     "metadata": {},
     "output_type": "execute_result"
    }
   ],
   "source": [
    "e= df['Sports_001_Rain(mm)']\n",
    "e"
   ]
  },
  {
   "cell_type": "code",
   "execution_count": 10,
   "id": "2dd08bf2",
   "metadata": {},
   "outputs": [
    {
     "data": {
      "text/plain": [
       "0         0\n",
       "1         0\n",
       "2         0\n",
       "3         0\n",
       "4         0\n",
       "         ..\n",
       "117592    0\n",
       "117593    0\n",
       "117594    0\n",
       "117595    0\n",
       "117596    0\n",
       "Name: Venn_001_Rain(mm), Length: 117597, dtype: object"
      ]
     },
     "execution_count": 10,
     "metadata": {},
     "output_type": "execute_result"
    }
   ],
   "source": [
    "f= df['Venn_001_Rain(mm)']\n",
    "f"
   ]
  },
  {
   "cell_type": "code",
   "execution_count": 11,
   "id": "dafee3cd",
   "metadata": {},
   "outputs": [
    {
     "data": {
      "text/plain": [
       "0         0\n",
       "1         0\n",
       "2         0\n",
       "3         0\n",
       "4         0\n",
       "         ..\n",
       "117592    0\n",
       "117593    0\n",
       "117594    0\n",
       "117595    0\n",
       "117596    0\n",
       "Name: Westfield_002_Rain(mm), Length: 117597, dtype: object"
      ]
     },
     "execution_count": 11,
     "metadata": {},
     "output_type": "execute_result"
    }
   ],
   "source": [
    "g= df['Westfield_002_Rain(mm)']\n",
    "g"
   ]
  },
  {
   "cell_type": "code",
   "execution_count": 12,
   "id": "8cf2c915",
   "metadata": {},
   "outputs": [
    {
     "data": {
      "text/plain": [
       "0          0\n",
       "1          0\n",
       "2          0\n",
       "3          0\n",
       "4          0\n",
       "          ..\n",
       "117592     0\n",
       "117593     0\n",
       "117594    --\n",
       "117595     0\n",
       "117596     0\n",
       "Name: Wilberforce_001_Rain(mm), Length: 117597, dtype: object"
      ]
     },
     "execution_count": 12,
     "metadata": {},
     "output_type": "execute_result"
    }
   ],
   "source": [
    "h= df['Wilberforce_001_Rain(mm)']\n",
    "h"
   ]
  },
  {
   "cell_type": "code",
   "execution_count": 13,
   "id": "760ab5a3",
   "metadata": {},
   "outputs": [
    {
     "data": {
      "text/plain": [
       "0         0\n",
       "1         0\n",
       "2         0\n",
       "3         0\n",
       "4         0\n",
       "         ..\n",
       "117592    0\n",
       "117593    0\n",
       "117594    0\n",
       "117595    0\n",
       "117596    0\n",
       "Name: Gateway_Rain(mm), Length: 117597, dtype: object"
      ]
     },
     "execution_count": 13,
     "metadata": {},
     "output_type": "execute_result"
    }
   ],
   "source": [
    "i= df[\"Gateway_Rain(mm)\"]\n",
    "i"
   ]
  },
  {
   "cell_type": "code",
   "execution_count": 14,
   "id": "703fb07b",
   "metadata": {},
   "outputs": [],
   "source": [
    "new_lib = [a,b,i]"
   ]
  },
  {
   "cell_type": "code",
   "execution_count": 15,
   "id": "0d8732b0",
   "metadata": {},
   "outputs": [
    {
     "data": {
      "text/html": [
       "<div>\n",
       "<style scoped>\n",
       "    .dataframe tbody tr th:only-of-type {\n",
       "        vertical-align: middle;\n",
       "    }\n",
       "\n",
       "    .dataframe tbody tr th {\n",
       "        vertical-align: top;\n",
       "    }\n",
       "\n",
       "    .dataframe thead th {\n",
       "        text-align: right;\n",
       "    }\n",
       "</style>\n",
       "<table border=\"1\" class=\"dataframe\">\n",
       "  <thead>\n",
       "    <tr style=\"text-align: right;\">\n",
       "      <th></th>\n",
       "      <th>Date &amp; Time</th>\n",
       "      <th>Newland_001_Rain(mm)</th>\n",
       "      <th>Gateway_Rain(mm)</th>\n",
       "    </tr>\n",
       "  </thead>\n",
       "  <tbody>\n",
       "    <tr>\n",
       "      <th>0</th>\n",
       "      <td>01/04/2022 00:00</td>\n",
       "      <td>0</td>\n",
       "      <td>0</td>\n",
       "    </tr>\n",
       "    <tr>\n",
       "      <th>1</th>\n",
       "      <td>01/04/2022 00:05</td>\n",
       "      <td>0.2</td>\n",
       "      <td>0</td>\n",
       "    </tr>\n",
       "    <tr>\n",
       "      <th>2</th>\n",
       "      <td>01/04/2022 00:10</td>\n",
       "      <td>0</td>\n",
       "      <td>0</td>\n",
       "    </tr>\n",
       "    <tr>\n",
       "      <th>3</th>\n",
       "      <td>01/04/2022 00:15</td>\n",
       "      <td>0</td>\n",
       "      <td>0</td>\n",
       "    </tr>\n",
       "    <tr>\n",
       "      <th>4</th>\n",
       "      <td>01/04/2022 00:20</td>\n",
       "      <td>0</td>\n",
       "      <td>0</td>\n",
       "    </tr>\n",
       "    <tr>\n",
       "      <th>...</th>\n",
       "      <td>...</td>\n",
       "      <td>...</td>\n",
       "      <td>...</td>\n",
       "    </tr>\n",
       "    <tr>\n",
       "      <th>117592</th>\n",
       "      <td>14/05/2023 08:25</td>\n",
       "      <td>0</td>\n",
       "      <td>0</td>\n",
       "    </tr>\n",
       "    <tr>\n",
       "      <th>117593</th>\n",
       "      <td>14/05/2023 08:30</td>\n",
       "      <td>0</td>\n",
       "      <td>0</td>\n",
       "    </tr>\n",
       "    <tr>\n",
       "      <th>117594</th>\n",
       "      <td>14/05/2023 08:35</td>\n",
       "      <td>0</td>\n",
       "      <td>0</td>\n",
       "    </tr>\n",
       "    <tr>\n",
       "      <th>117595</th>\n",
       "      <td>14/05/2023 08:40</td>\n",
       "      <td>--</td>\n",
       "      <td>0</td>\n",
       "    </tr>\n",
       "    <tr>\n",
       "      <th>117596</th>\n",
       "      <td>14/05/2023 08:45</td>\n",
       "      <td>0</td>\n",
       "      <td>0</td>\n",
       "    </tr>\n",
       "  </tbody>\n",
       "</table>\n",
       "<p>117597 rows × 3 columns</p>\n",
       "</div>"
      ],
      "text/plain": [
       "             Date & Time Newland_001_Rain(mm) Gateway_Rain(mm)\n",
       "0       01/04/2022 00:00                    0                0\n",
       "1       01/04/2022 00:05                  0.2                0\n",
       "2       01/04/2022 00:10                    0                0\n",
       "3       01/04/2022 00:15                    0                0\n",
       "4       01/04/2022 00:20                    0                0\n",
       "...                  ...                  ...              ...\n",
       "117592  14/05/2023 08:25                    0                0\n",
       "117593  14/05/2023 08:30                    0                0\n",
       "117594  14/05/2023 08:35                    0                0\n",
       "117595  14/05/2023 08:40                   --                0\n",
       "117596  14/05/2023 08:45                    0                0\n",
       "\n",
       "[117597 rows x 3 columns]"
      ]
     },
     "execution_count": 15,
     "metadata": {},
     "output_type": "execute_result"
    }
   ],
   "source": [
    "df1 = pd.concat(new_lib, axis=1)\n",
    "df1"
   ]
  },
  {
   "cell_type": "code",
   "execution_count": 16,
   "id": "b821ef16",
   "metadata": {},
   "outputs": [],
   "source": [
    "df1.to_csv('gateway_newland.csv')"
   ]
  },
  {
   "cell_type": "code",
   "execution_count": 17,
   "id": "08dac31c",
   "metadata": {},
   "outputs": [],
   "source": [
    "# replacing zero values with nan\n",
    "#df = df.replace(0, np.nan)\n",
    "#df"
   ]
  },
  {
   "cell_type": "code",
   "execution_count": 18,
   "id": "eb5564dd",
   "metadata": {},
   "outputs": [
    {
     "data": {
      "text/html": [
       "<div>\n",
       "<style scoped>\n",
       "    .dataframe tbody tr th:only-of-type {\n",
       "        vertical-align: middle;\n",
       "    }\n",
       "\n",
       "    .dataframe tbody tr th {\n",
       "        vertical-align: top;\n",
       "    }\n",
       "\n",
       "    .dataframe thead th {\n",
       "        text-align: right;\n",
       "    }\n",
       "</style>\n",
       "<table border=\"1\" class=\"dataframe\">\n",
       "  <thead>\n",
       "    <tr style=\"text-align: right;\">\n",
       "      <th></th>\n",
       "      <th>Date &amp; Time</th>\n",
       "      <th>Newland_001_Rain(mm)</th>\n",
       "      <th>Gateway_Rain(mm)</th>\n",
       "    </tr>\n",
       "  </thead>\n",
       "  <tbody>\n",
       "    <tr>\n",
       "      <th>0</th>\n",
       "      <td>01/04/2022 00:00</td>\n",
       "      <td>0</td>\n",
       "      <td>0</td>\n",
       "    </tr>\n",
       "    <tr>\n",
       "      <th>1</th>\n",
       "      <td>01/04/2022 00:05</td>\n",
       "      <td>0.2</td>\n",
       "      <td>0</td>\n",
       "    </tr>\n",
       "    <tr>\n",
       "      <th>2</th>\n",
       "      <td>01/04/2022 00:10</td>\n",
       "      <td>0</td>\n",
       "      <td>0</td>\n",
       "    </tr>\n",
       "    <tr>\n",
       "      <th>3</th>\n",
       "      <td>01/04/2022 00:15</td>\n",
       "      <td>0</td>\n",
       "      <td>0</td>\n",
       "    </tr>\n",
       "    <tr>\n",
       "      <th>4</th>\n",
       "      <td>01/04/2022 00:20</td>\n",
       "      <td>0</td>\n",
       "      <td>0</td>\n",
       "    </tr>\n",
       "    <tr>\n",
       "      <th>...</th>\n",
       "      <td>...</td>\n",
       "      <td>...</td>\n",
       "      <td>...</td>\n",
       "    </tr>\n",
       "    <tr>\n",
       "      <th>117592</th>\n",
       "      <td>14/05/2023 08:25</td>\n",
       "      <td>0</td>\n",
       "      <td>0</td>\n",
       "    </tr>\n",
       "    <tr>\n",
       "      <th>117593</th>\n",
       "      <td>14/05/2023 08:30</td>\n",
       "      <td>0</td>\n",
       "      <td>0</td>\n",
       "    </tr>\n",
       "    <tr>\n",
       "      <th>117594</th>\n",
       "      <td>14/05/2023 08:35</td>\n",
       "      <td>0</td>\n",
       "      <td>0</td>\n",
       "    </tr>\n",
       "    <tr>\n",
       "      <th>117595</th>\n",
       "      <td>14/05/2023 08:40</td>\n",
       "      <td>NaN</td>\n",
       "      <td>0</td>\n",
       "    </tr>\n",
       "    <tr>\n",
       "      <th>117596</th>\n",
       "      <td>14/05/2023 08:45</td>\n",
       "      <td>0</td>\n",
       "      <td>0</td>\n",
       "    </tr>\n",
       "  </tbody>\n",
       "</table>\n",
       "<p>117597 rows × 3 columns</p>\n",
       "</div>"
      ],
      "text/plain": [
       "             Date & Time Newland_001_Rain(mm) Gateway_Rain(mm)\n",
       "0       01/04/2022 00:00                    0                0\n",
       "1       01/04/2022 00:05                  0.2                0\n",
       "2       01/04/2022 00:10                    0                0\n",
       "3       01/04/2022 00:15                    0                0\n",
       "4       01/04/2022 00:20                    0                0\n",
       "...                  ...                  ...              ...\n",
       "117592  14/05/2023 08:25                    0                0\n",
       "117593  14/05/2023 08:30                    0                0\n",
       "117594  14/05/2023 08:35                    0                0\n",
       "117595  14/05/2023 08:40                  NaN                0\n",
       "117596  14/05/2023 08:45                    0                0\n",
       "\n",
       "[117597 rows x 3 columns]"
      ]
     },
     "execution_count": 18,
     "metadata": {},
     "output_type": "execute_result"
    }
   ],
   "source": [
    "#replacing missing values in the dataframe with nan\n",
    "\n",
    "df1= df1.replace('--', np.nan)\n",
    "df1"
   ]
  },
  {
   "cell_type": "code",
   "execution_count": 19,
   "id": "5e74a599",
   "metadata": {},
   "outputs": [
    {
     "data": {
      "text/plain": [
       "array(['0', '0.2', '0.4', nan, '0.6', '1', '0.8', '1.2', '2.6', '2.4',\n",
       "       '5', '2', '1.4', '1.6', '3.4', '3.2', '1.8', '2.8', '6.6', '4.8',\n",
       "       '7.8', '3', '13.4', '4.4', '4', '12.8', '4.6', '33.6', '20.4',\n",
       "       '7.4', '6.2', '8.8', '9.6', '3.8', '3.6', '2.2', '9.4', '5.8'],\n",
       "      dtype=object)"
      ]
     },
     "execution_count": 19,
     "metadata": {},
     "output_type": "execute_result"
    }
   ],
   "source": [
    "df1['Newland_001_Rain(mm)'].unique()"
   ]
  },
  {
   "cell_type": "code",
   "execution_count": 20,
   "id": "77c724e5",
   "metadata": {},
   "outputs": [],
   "source": [
    "#changing the data type from object to numeric\n",
    "\n",
    "columns = ['Newland_001_Rain(mm)', 'Gateway_Rain(mm)']\n",
    "\n",
    "df1[columns] = df1[columns].apply(pd.to_numeric)"
   ]
  },
  {
   "cell_type": "code",
   "execution_count": 21,
   "id": "e93b38d5",
   "metadata": {},
   "outputs": [],
   "source": [
    "df1 = df1.replace(0, pd.NA)"
   ]
  },
  {
   "cell_type": "code",
   "execution_count": 22,
   "id": "8a1a6808",
   "metadata": {},
   "outputs": [],
   "source": [
    "df1.dropna(inplace=True)"
   ]
  },
  {
   "cell_type": "code",
   "execution_count": 23,
   "id": "8787f7a3",
   "metadata": {},
   "outputs": [
    {
     "name": "stdout",
     "output_type": "stream",
     "text": [
      "<class 'pandas.core.frame.DataFrame'>\n",
      "Index: 481 entries, 13543 to 116032\n",
      "Data columns (total 3 columns):\n",
      " #   Column                Non-Null Count  Dtype \n",
      "---  ------                --------------  ----- \n",
      " 0   Date & Time           481 non-null    object\n",
      " 1   Newland_001_Rain(mm)  481 non-null    object\n",
      " 2   Gateway_Rain(mm)      481 non-null    object\n",
      "dtypes: object(3)\n",
      "memory usage: 15.0+ KB\n"
     ]
    }
   ],
   "source": [
    "df1.info()"
   ]
  },
  {
   "cell_type": "code",
   "execution_count": 24,
   "id": "9affa3a3",
   "metadata": {},
   "outputs": [],
   "source": [
    "#changing the data type from object to numeric\n",
    "\n",
    "columns = ['Newland_001_Rain(mm)', 'Gateway_Rain(mm)']\n",
    "\n",
    "df1[columns] = df1[columns].apply(pd.to_numeric)"
   ]
  },
  {
   "cell_type": "code",
   "execution_count": 25,
   "id": "e642b04e",
   "metadata": {},
   "outputs": [],
   "source": [
    "# df.to_csv(\"April22_June22_no_zeroes_no_nan.csv\")"
   ]
  },
  {
   "cell_type": "markdown",
   "id": "34eec13b",
   "metadata": {},
   "source": [
    "## Finding R_squared and Treadline Equation\n",
    "\n",
    "### For Newland_001"
   ]
  },
  {
   "cell_type": "code",
   "execution_count": 26,
   "id": "dd93ecd5",
   "metadata": {},
   "outputs": [],
   "source": [
    "from scipy.odr import Model, ODR, RealData"
   ]
  },
  {
   "cell_type": "code",
   "execution_count": 27,
   "id": "b56a93bc",
   "metadata": {},
   "outputs": [],
   "source": [
    "# Define the regression model\n",
    "def linear_model(beta, x):\n",
    "    return beta[0]*x - 0"
   ]
  },
  {
   "cell_type": "code",
   "execution_count": 28,
   "id": "f4199609",
   "metadata": {},
   "outputs": [],
   "source": [
    "# Create the ODR data object\n",
    "x = df1['Gateway_Rain(mm)']  # Independent variable\n",
    "y = df1['Newland_001_Rain(mm)']  # Dependent variable\n",
    "data = RealData(x, y)"
   ]
  },
  {
   "cell_type": "code",
   "execution_count": 29,
   "id": "9309dc69",
   "metadata": {},
   "outputs": [],
   "source": [
    "# Define the ODR model\n",
    "model = Model(linear_model)"
   ]
  },
  {
   "cell_type": "code",
   "execution_count": 30,
   "id": "90260d9b",
   "metadata": {},
   "outputs": [
    {
     "name": "stdout",
     "output_type": "stream",
     "text": [
      "Beta: [0.55834851]\n",
      "Beta Std Error: [0.01582311]\n",
      "Beta Covariance: [[0.00015765]]\n",
      "Residual Variance: 1.5881044902992942\n",
      "Inverse Condition #: 1.0\n",
      "Reason(s) for Halting:\n",
      "  Sum of squares convergence\n"
     ]
    }
   ],
   "source": [
    "# Perform the ODR regression\n",
    "odr = ODR(data, model, beta0=[1])  # Initial guess for the parameter\n",
    "odr_result = odr.run()\n",
    "odr.set_job(fit_type=0)\n",
    "\n",
    "odr_result.pprint()"
   ]
  },
  {
   "cell_type": "code",
   "execution_count": 31,
   "id": "444315a2",
   "metadata": {},
   "outputs": [
    {
     "name": "stdout",
     "output_type": "stream",
     "text": [
      "Optimized parameter (slope): 0.5583485061884662\n"
     ]
    }
   ],
   "source": [
    "# Get the optimized parameters\n",
    "beta_optimized = odr_result.beta\n",
    "\n",
    "# Print the optimized parameters\n",
    "slope = beta_optimized[0]\n",
    "print(\"Optimized parameter (slope):\", slope)"
   ]
  },
  {
   "cell_type": "code",
   "execution_count": 32,
   "id": "a9fbae53",
   "metadata": {},
   "outputs": [],
   "source": [
    "# Compute R-squared value\n",
    "y_predicted = linear_model(beta_optimized, x)\n",
    "ss_total = np.sum((y - np.mean(y))**2)\n",
    "ss_residual = np.sum((y - y_predicted)**2)\n",
    "r_squared = 1 - (ss_residual / ss_total)\n",
    "#print(\"R-squared:\", r_squared"
   ]
  },
  {
   "cell_type": "code",
   "execution_count": 33,
   "id": "42adf9a8",
   "metadata": {},
   "outputs": [
    {
     "data": {
      "image/png": "[encoded data removed]",
      "text/plain": [
       "<Figure size 640x480 with 1 Axes>"
      ]
     },
     "metadata": {},
     "output_type": "display_data"
    }
   ],
   "source": [
    "# Plot the data points and regression line\n",
    "plt.scatter(x, y)\n",
    "plt.plot(x, y_predicted, color='red', label=f'Trendline (R-squared: {r_squared:.2f})')\n",
    "plt.xlabel('Gateway')\n",
    "plt.ylabel('Newland_001')\n",
    "plt.title('Orthogonal Distance Regression for Gateway and Newland_001 Between April 2022 - May 2023')\n",
    "\n",
    "# Show legend\n",
    "plt.legend()\n",
    "\n",
    "\n",
    "\n",
    "# Add equation of the trendline\n",
    "equation = f'y = {slope:.2f}x'\n",
    "plt.text(20, 6, equation, fontsize=12)\n",
    "\n",
    "plt.show()\n"
   ]
  },
  {
   "cell_type": "code",
   "execution_count": 34,
   "id": "71d98c80",
   "metadata": {},
   "outputs": [],
   "source": [
    "new_sal = [a,c,i]"
   ]
  },
  {
   "cell_type": "code",
   "execution_count": 35,
   "id": "bc590be8",
   "metadata": {},
   "outputs": [
    {
     "data": {
      "text/html": [
       "<div>\n",
       "<style scoped>\n",
       "    .dataframe tbody tr th:only-of-type {\n",
       "        vertical-align: middle;\n",
       "    }\n",
       "\n",
       "    .dataframe tbody tr th {\n",
       "        vertical-align: top;\n",
       "    }\n",
       "\n",
       "    .dataframe thead th {\n",
       "        text-align: right;\n",
       "    }\n",
       "</style>\n",
       "<table border=\"1\" class=\"dataframe\">\n",
       "  <thead>\n",
       "    <tr style=\"text-align: right;\">\n",
       "      <th></th>\n",
       "      <th>Date &amp; Time</th>\n",
       "      <th>Library_001_Rain(mm)</th>\n",
       "      <th>Gateway_Rain(mm)</th>\n",
       "    </tr>\n",
       "  </thead>\n",
       "  <tbody>\n",
       "    <tr>\n",
       "      <th>0</th>\n",
       "      <td>01/04/2022 00:00</td>\n",
       "      <td>0</td>\n",
       "      <td>0</td>\n",
       "    </tr>\n",
       "    <tr>\n",
       "      <th>1</th>\n",
       "      <td>01/04/2022 00:05</td>\n",
       "      <td>0</td>\n",
       "      <td>0</td>\n",
       "    </tr>\n",
       "    <tr>\n",
       "      <th>2</th>\n",
       "      <td>01/04/2022 00:10</td>\n",
       "      <td>0</td>\n",
       "      <td>0</td>\n",
       "    </tr>\n",
       "    <tr>\n",
       "      <th>3</th>\n",
       "      <td>01/04/2022 00:15</td>\n",
       "      <td>0</td>\n",
       "      <td>0</td>\n",
       "    </tr>\n",
       "    <tr>\n",
       "      <th>4</th>\n",
       "      <td>01/04/2022 00:20</td>\n",
       "      <td>0</td>\n",
       "      <td>0</td>\n",
       "    </tr>\n",
       "    <tr>\n",
       "      <th>...</th>\n",
       "      <td>...</td>\n",
       "      <td>...</td>\n",
       "      <td>...</td>\n",
       "    </tr>\n",
       "    <tr>\n",
       "      <th>117592</th>\n",
       "      <td>14/05/2023 08:25</td>\n",
       "      <td>0</td>\n",
       "      <td>0</td>\n",
       "    </tr>\n",
       "    <tr>\n",
       "      <th>117593</th>\n",
       "      <td>14/05/2023 08:30</td>\n",
       "      <td>0</td>\n",
       "      <td>0</td>\n",
       "    </tr>\n",
       "    <tr>\n",
       "      <th>117594</th>\n",
       "      <td>14/05/2023 08:35</td>\n",
       "      <td>0</td>\n",
       "      <td>0</td>\n",
       "    </tr>\n",
       "    <tr>\n",
       "      <th>117595</th>\n",
       "      <td>14/05/2023 08:40</td>\n",
       "      <td>0</td>\n",
       "      <td>0</td>\n",
       "    </tr>\n",
       "    <tr>\n",
       "      <th>117596</th>\n",
       "      <td>14/05/2023 08:45</td>\n",
       "      <td>0</td>\n",
       "      <td>0</td>\n",
       "    </tr>\n",
       "  </tbody>\n",
       "</table>\n",
       "<p>117597 rows × 3 columns</p>\n",
       "</div>"
      ],
      "text/plain": [
       "             Date & Time Library_001_Rain(mm) Gateway_Rain(mm)\n",
       "0       01/04/2022 00:00                    0                0\n",
       "1       01/04/2022 00:05                    0                0\n",
       "2       01/04/2022 00:10                    0                0\n",
       "3       01/04/2022 00:15                    0                0\n",
       "4       01/04/2022 00:20                    0                0\n",
       "...                  ...                  ...              ...\n",
       "117592  14/05/2023 08:25                    0                0\n",
       "117593  14/05/2023 08:30                    0                0\n",
       "117594  14/05/2023 08:35                    0                0\n",
       "117595  14/05/2023 08:40                    0                0\n",
       "117596  14/05/2023 08:45                    0                0\n",
       "\n",
       "[117597 rows x 3 columns]"
      ]
     },
     "execution_count": 35,
     "metadata": {},
     "output_type": "execute_result"
    }
   ],
   "source": [
    "df1 = pd.concat(new_sal, axis=1)\n",
    "df1"
   ]
  },
  {
   "cell_type": "code",
   "execution_count": 36,
   "id": "6a07e84f",
   "metadata": {},
   "outputs": [
    {
     "data": {
      "text/html": [
       "<div>\n",
       "<style scoped>\n",
       "    .dataframe tbody tr th:only-of-type {\n",
       "        vertical-align: middle;\n",
       "    }\n",
       "\n",
       "    .dataframe tbody tr th {\n",
       "        vertical-align: top;\n",
       "    }\n",
       "\n",
       "    .dataframe thead th {\n",
       "        text-align: right;\n",
       "    }\n",
       "</style>\n",
       "<table border=\"1\" class=\"dataframe\">\n",
       "  <thead>\n",
       "    <tr style=\"text-align: right;\">\n",
       "      <th></th>\n",
       "      <th>Date &amp; Time</th>\n",
       "      <th>Library_001_Rain(mm)</th>\n",
       "      <th>Gateway_Rain(mm)</th>\n",
       "    </tr>\n",
       "  </thead>\n",
       "  <tbody>\n",
       "    <tr>\n",
       "      <th>0</th>\n",
       "      <td>01/04/2022 00:00</td>\n",
       "      <td>0</td>\n",
       "      <td>0</td>\n",
       "    </tr>\n",
       "    <tr>\n",
       "      <th>1</th>\n",
       "      <td>01/04/2022 00:05</td>\n",
       "      <td>0</td>\n",
       "      <td>0</td>\n",
       "    </tr>\n",
       "    <tr>\n",
       "      <th>2</th>\n",
       "      <td>01/04/2022 00:10</td>\n",
       "      <td>0</td>\n",
       "      <td>0</td>\n",
       "    </tr>\n",
       "    <tr>\n",
       "      <th>3</th>\n",
       "      <td>01/04/2022 00:15</td>\n",
       "      <td>0</td>\n",
       "      <td>0</td>\n",
       "    </tr>\n",
       "    <tr>\n",
       "      <th>4</th>\n",
       "      <td>01/04/2022 00:20</td>\n",
       "      <td>0</td>\n",
       "      <td>0</td>\n",
       "    </tr>\n",
       "    <tr>\n",
       "      <th>...</th>\n",
       "      <td>...</td>\n",
       "      <td>...</td>\n",
       "      <td>...</td>\n",
       "    </tr>\n",
       "    <tr>\n",
       "      <th>117592</th>\n",
       "      <td>14/05/2023 08:25</td>\n",
       "      <td>0</td>\n",
       "      <td>0</td>\n",
       "    </tr>\n",
       "    <tr>\n",
       "      <th>117593</th>\n",
       "      <td>14/05/2023 08:30</td>\n",
       "      <td>0</td>\n",
       "      <td>0</td>\n",
       "    </tr>\n",
       "    <tr>\n",
       "      <th>117594</th>\n",
       "      <td>14/05/2023 08:35</td>\n",
       "      <td>0</td>\n",
       "      <td>0</td>\n",
       "    </tr>\n",
       "    <tr>\n",
       "      <th>117595</th>\n",
       "      <td>14/05/2023 08:40</td>\n",
       "      <td>0</td>\n",
       "      <td>0</td>\n",
       "    </tr>\n",
       "    <tr>\n",
       "      <th>117596</th>\n",
       "      <td>14/05/2023 08:45</td>\n",
       "      <td>0</td>\n",
       "      <td>0</td>\n",
       "    </tr>\n",
       "  </tbody>\n",
       "</table>\n",
       "<p>117597 rows × 3 columns</p>\n",
       "</div>"
      ],
      "text/plain": [
       "             Date & Time Library_001_Rain(mm) Gateway_Rain(mm)\n",
       "0       01/04/2022 00:00                    0                0\n",
       "1       01/04/2022 00:05                    0                0\n",
       "2       01/04/2022 00:10                    0                0\n",
       "3       01/04/2022 00:15                    0                0\n",
       "4       01/04/2022 00:20                    0                0\n",
       "...                  ...                  ...              ...\n",
       "117592  14/05/2023 08:25                    0                0\n",
       "117593  14/05/2023 08:30                    0                0\n",
       "117594  14/05/2023 08:35                    0                0\n",
       "117595  14/05/2023 08:40                    0                0\n",
       "117596  14/05/2023 08:45                    0                0\n",
       "\n",
       "[117597 rows x 3 columns]"
      ]
     },
     "execution_count": 36,
     "metadata": {},
     "output_type": "execute_result"
    }
   ],
   "source": [
    "#replacing missing values in the dataframe with nan\n",
    "\n",
    "df1= df1.replace('--', np.nan)\n",
    "df1"
   ]
  },
  {
   "cell_type": "code",
   "execution_count": 37,
   "id": "1972401b",
   "metadata": {},
   "outputs": [],
   "source": [
    "#changing the data type from object to numeric\n",
    "\n",
    "columns = ['Library_001_Rain(mm)', 'Gateway_Rain(mm)']\n",
    "\n",
    "df1[columns] = df1[columns].apply(pd.to_numeric)"
   ]
  },
  {
   "cell_type": "code",
   "execution_count": 38,
   "id": "f1298196",
   "metadata": {},
   "outputs": [],
   "source": [
    "df1 = df1.replace(0, pd.NA)"
   ]
  },
  {
   "cell_type": "code",
   "execution_count": 39,
   "id": "0d11d086",
   "metadata": {},
   "outputs": [],
   "source": [
    "\n",
    "df1.dropna(inplace=True)"
   ]
  },
  {
   "cell_type": "code",
   "execution_count": 40,
   "id": "295cf1c6",
   "metadata": {},
   "outputs": [
    {
     "name": "stdout",
     "output_type": "stream",
     "text": [
      "<class 'pandas.core.frame.DataFrame'>\n",
      "Index: 1199 entries, 13542 to 116799\n",
      "Data columns (total 3 columns):\n",
      " #   Column                Non-Null Count  Dtype \n",
      "---  ------                --------------  ----- \n",
      " 0   Date & Time           1199 non-null   object\n",
      " 1   Library_001_Rain(mm)  1199 non-null   object\n",
      " 2   Gateway_Rain(mm)      1199 non-null   object\n",
      "dtypes: object(3)\n",
      "memory usage: 37.5+ KB\n"
     ]
    }
   ],
   "source": [
    "df1.info()"
   ]
  },
  {
   "cell_type": "code",
   "execution_count": 41,
   "id": "6590f9fc",
   "metadata": {},
   "outputs": [],
   "source": [
    "#changing the data type from object to numeric\n",
    "\n",
    "columns = ['Library_001_Rain(mm)', 'Gateway_Rain(mm)']\n",
    "\n",
    "df1[columns] = df1[columns].apply(pd.to_numeric)"
   ]
  },
  {
   "cell_type": "code",
   "execution_count": 42,
   "id": "09b9cde3",
   "metadata": {},
   "outputs": [],
   "source": [
    "from scipy.odr import Model, ODR, RealData"
   ]
  },
  {
   "cell_type": "code",
   "execution_count": 43,
   "id": "c63ea1ea",
   "metadata": {},
   "outputs": [],
   "source": [
    "# Define the regression model\n",
    "def linear_model(beta, x):\n",
    "    return beta[0]*x - 0"
   ]
  },
  {
   "cell_type": "code",
   "execution_count": 44,
   "id": "713d7b1c",
   "metadata": {},
   "outputs": [],
   "source": [
    "# Create the ODR data object\n",
    "x = df1['Gateway_Rain(mm)']  # Independent variable\n",
    "y = df1['Library_001_Rain(mm)']  # Dependent variable\n",
    "data = RealData(x, y)"
   ]
  },
  {
   "cell_type": "code",
   "execution_count": 45,
   "id": "70541405",
   "metadata": {},
   "outputs": [],
   "source": [
    "# Define the ODR model\n",
    "model = Model(linear_model)"
   ]
  },
  {
   "cell_type": "code",
   "execution_count": 46,
   "id": "21db0fdf",
   "metadata": {},
   "outputs": [
    {
     "name": "stdout",
     "output_type": "stream",
     "text": [
      "Beta: [0.89822994]\n",
      "Beta Std Error: [0.01291205]\n",
      "Beta Covariance: [[7.37570704e-05]]\n",
      "Residual Variance: 2.2604066146904924\n",
      "Inverse Condition #: 1.0\n",
      "Reason(s) for Halting:\n",
      "  Sum of squares convergence\n"
     ]
    }
   ],
   "source": [
    "# Perform the ODR regression\n",
    "odr = ODR(data, model, beta0=[1])  # Initial guess for the parameter\n",
    "odr_result = odr.run()\n",
    "odr.set_job(fit_type=0)\n",
    "\n",
    "odr_result.pprint()"
   ]
  },
  {
   "cell_type": "code",
   "execution_count": 47,
   "id": "34b6117a",
   "metadata": {},
   "outputs": [
    {
     "name": "stdout",
     "output_type": "stream",
     "text": [
      "Optimized parameter (slope): 0.8982299375189343\n"
     ]
    }
   ],
   "source": [
    "# Get the optimized parameters\n",
    "beta_optimized = odr_result.beta\n",
    "\n",
    "# Print the optimized parameters\n",
    "slope = beta_optimized[0]\n",
    "print(\"Optimized parameter (slope):\", slope)"
   ]
  },
  {
   "cell_type": "code",
   "execution_count": 48,
   "id": "288b5b2c",
   "metadata": {},
   "outputs": [],
   "source": [
    "# Compute R-squared value\n",
    "y_predicted = linear_model(beta_optimized, x)\n",
    "ss_total = np.sum((y - np.mean(y))**2)\n",
    "ss_residual = np.sum((y - y_predicted)**2)\n",
    "r_squared = 1 - (ss_residual / ss_total)\n",
    "#print(\"R-squared:\", r_squared"
   ]
  },
  {
   "cell_type": "code",
   "execution_count": 49,
   "id": "912b9c89",
   "metadata": {},
   "outputs": [
    {
     "data": {
      "image/png": "[encoded data removed]",
      "text/plain": [
       "<Figure size 640x480 with 1 Axes>"
      ]
     },
     "metadata": {},
     "output_type": "display_data"
    }
   ],
   "source": [
    "# Plot the data points and regression line\n",
    "plt.scatter(x, y)\n",
    "plt.plot(x, y_predicted, color='red', label=f'Trendline (R-squared: {r_squared:.2f})')\n",
    "plt.xlabel('Gateway')\n",
    "plt.ylabel('Library_001')\n",
    "plt.title('Orthogonal Distance Regression for Gateway and Library_001 Between April 2022 - May 2023')\n",
    "\n",
    "# Show legend\n",
    "plt.legend()\n",
    "\n",
    "\n",
    "\n",
    "# Add equation of the trendline\n",
    "equation = f'y = {slope:.2f}x'\n",
    "plt.text(35, 20, equation, fontsize=12)\n",
    "\n",
    "plt.show()\n"
   ]
  },
  {
   "cell_type": "code",
   "execution_count": 50,
   "id": "df862d48",
   "metadata": {},
   "outputs": [],
   "source": [
    "new_spo= [a,d,i]"
   ]
  },
  {
   "cell_type": "code",
   "execution_count": 51,
   "id": "6dcc8a76",
   "metadata": {},
   "outputs": [
    {
     "data": {
      "text/html": [
       "<div>\n",
       "<style scoped>\n",
       "    .dataframe tbody tr th:only-of-type {\n",
       "        vertical-align: middle;\n",
       "    }\n",
       "\n",
       "    .dataframe tbody tr th {\n",
       "        vertical-align: top;\n",
       "    }\n",
       "\n",
       "    .dataframe thead th {\n",
       "        text-align: right;\n",
       "    }\n",
       "</style>\n",
       "<table border=\"1\" class=\"dataframe\">\n",
       "  <thead>\n",
       "    <tr style=\"text-align: right;\">\n",
       "      <th></th>\n",
       "      <th>Date &amp; Time</th>\n",
       "      <th>Salmon_001_Rain(mm)</th>\n",
       "      <th>Gateway_Rain(mm)</th>\n",
       "    </tr>\n",
       "  </thead>\n",
       "  <tbody>\n",
       "    <tr>\n",
       "      <th>0</th>\n",
       "      <td>01/04/2022 00:00</td>\n",
       "      <td>0</td>\n",
       "      <td>0</td>\n",
       "    </tr>\n",
       "    <tr>\n",
       "      <th>1</th>\n",
       "      <td>01/04/2022 00:05</td>\n",
       "      <td>0</td>\n",
       "      <td>0</td>\n",
       "    </tr>\n",
       "    <tr>\n",
       "      <th>2</th>\n",
       "      <td>01/04/2022 00:10</td>\n",
       "      <td>0</td>\n",
       "      <td>0</td>\n",
       "    </tr>\n",
       "    <tr>\n",
       "      <th>3</th>\n",
       "      <td>01/04/2022 00:15</td>\n",
       "      <td>0</td>\n",
       "      <td>0</td>\n",
       "    </tr>\n",
       "    <tr>\n",
       "      <th>4</th>\n",
       "      <td>01/04/2022 00:20</td>\n",
       "      <td>0</td>\n",
       "      <td>0</td>\n",
       "    </tr>\n",
       "    <tr>\n",
       "      <th>...</th>\n",
       "      <td>...</td>\n",
       "      <td>...</td>\n",
       "      <td>...</td>\n",
       "    </tr>\n",
       "    <tr>\n",
       "      <th>117592</th>\n",
       "      <td>14/05/2023 08:25</td>\n",
       "      <td>0</td>\n",
       "      <td>0</td>\n",
       "    </tr>\n",
       "    <tr>\n",
       "      <th>117593</th>\n",
       "      <td>14/05/2023 08:30</td>\n",
       "      <td>0</td>\n",
       "      <td>0</td>\n",
       "    </tr>\n",
       "    <tr>\n",
       "      <th>117594</th>\n",
       "      <td>14/05/2023 08:35</td>\n",
       "      <td>0</td>\n",
       "      <td>0</td>\n",
       "    </tr>\n",
       "    <tr>\n",
       "      <th>117595</th>\n",
       "      <td>14/05/2023 08:40</td>\n",
       "      <td>0</td>\n",
       "      <td>0</td>\n",
       "    </tr>\n",
       "    <tr>\n",
       "      <th>117596</th>\n",
       "      <td>14/05/2023 08:45</td>\n",
       "      <td>--</td>\n",
       "      <td>0</td>\n",
       "    </tr>\n",
       "  </tbody>\n",
       "</table>\n",
       "<p>117597 rows × 3 columns</p>\n",
       "</div>"
      ],
      "text/plain": [
       "             Date & Time Salmon_001_Rain(mm) Gateway_Rain(mm)\n",
       "0       01/04/2022 00:00                   0                0\n",
       "1       01/04/2022 00:05                   0                0\n",
       "2       01/04/2022 00:10                   0                0\n",
       "3       01/04/2022 00:15                   0                0\n",
       "4       01/04/2022 00:20                   0                0\n",
       "...                  ...                 ...              ...\n",
       "117592  14/05/2023 08:25                   0                0\n",
       "117593  14/05/2023 08:30                   0                0\n",
       "117594  14/05/2023 08:35                   0                0\n",
       "117595  14/05/2023 08:40                   0                0\n",
       "117596  14/05/2023 08:45                  --                0\n",
       "\n",
       "[117597 rows x 3 columns]"
      ]
     },
     "execution_count": 51,
     "metadata": {},
     "output_type": "execute_result"
    }
   ],
   "source": [
    "df1 = pd.concat(new_spo, axis=1)\n",
    "df1"
   ]
  },
  {
   "cell_type": "code",
   "execution_count": 52,
   "id": "67e8a5b0",
   "metadata": {},
   "outputs": [
    {
     "data": {
      "text/html": [
       "<div>\n",
       "<style scoped>\n",
       "    .dataframe tbody tr th:only-of-type {\n",
       "        vertical-align: middle;\n",
       "    }\n",
       "\n",
       "    .dataframe tbody tr th {\n",
       "        vertical-align: top;\n",
       "    }\n",
       "\n",
       "    .dataframe thead th {\n",
       "        text-align: right;\n",
       "    }\n",
       "</style>\n",
       "<table border=\"1\" class=\"dataframe\">\n",
       "  <thead>\n",
       "    <tr style=\"text-align: right;\">\n",
       "      <th></th>\n",
       "      <th>Date &amp; Time</th>\n",
       "      <th>Salmon_001_Rain(mm)</th>\n",
       "      <th>Gateway_Rain(mm)</th>\n",
       "    </tr>\n",
       "  </thead>\n",
       "  <tbody>\n",
       "    <tr>\n",
       "      <th>0</th>\n",
       "      <td>01/04/2022 00:00</td>\n",
       "      <td>0</td>\n",
       "      <td>0</td>\n",
       "    </tr>\n",
       "    <tr>\n",
       "      <th>1</th>\n",
       "      <td>01/04/2022 00:05</td>\n",
       "      <td>0</td>\n",
       "      <td>0</td>\n",
       "    </tr>\n",
       "    <tr>\n",
       "      <th>2</th>\n",
       "      <td>01/04/2022 00:10</td>\n",
       "      <td>0</td>\n",
       "      <td>0</td>\n",
       "    </tr>\n",
       "    <tr>\n",
       "      <th>3</th>\n",
       "      <td>01/04/2022 00:15</td>\n",
       "      <td>0</td>\n",
       "      <td>0</td>\n",
       "    </tr>\n",
       "    <tr>\n",
       "      <th>4</th>\n",
       "      <td>01/04/2022 00:20</td>\n",
       "      <td>0</td>\n",
       "      <td>0</td>\n",
       "    </tr>\n",
       "    <tr>\n",
       "      <th>...</th>\n",
       "      <td>...</td>\n",
       "      <td>...</td>\n",
       "      <td>...</td>\n",
       "    </tr>\n",
       "    <tr>\n",
       "      <th>117592</th>\n",
       "      <td>14/05/2023 08:25</td>\n",
       "      <td>0</td>\n",
       "      <td>0</td>\n",
       "    </tr>\n",
       "    <tr>\n",
       "      <th>117593</th>\n",
       "      <td>14/05/2023 08:30</td>\n",
       "      <td>0</td>\n",
       "      <td>0</td>\n",
       "    </tr>\n",
       "    <tr>\n",
       "      <th>117594</th>\n",
       "      <td>14/05/2023 08:35</td>\n",
       "      <td>0</td>\n",
       "      <td>0</td>\n",
       "    </tr>\n",
       "    <tr>\n",
       "      <th>117595</th>\n",
       "      <td>14/05/2023 08:40</td>\n",
       "      <td>0</td>\n",
       "      <td>0</td>\n",
       "    </tr>\n",
       "    <tr>\n",
       "      <th>117596</th>\n",
       "      <td>14/05/2023 08:45</td>\n",
       "      <td>NaN</td>\n",
       "      <td>0</td>\n",
       "    </tr>\n",
       "  </tbody>\n",
       "</table>\n",
       "<p>117597 rows × 3 columns</p>\n",
       "</div>"
      ],
      "text/plain": [
       "             Date & Time Salmon_001_Rain(mm) Gateway_Rain(mm)\n",
       "0       01/04/2022 00:00                   0                0\n",
       "1       01/04/2022 00:05                   0                0\n",
       "2       01/04/2022 00:10                   0                0\n",
       "3       01/04/2022 00:15                   0                0\n",
       "4       01/04/2022 00:20                   0                0\n",
       "...                  ...                 ...              ...\n",
       "117592  14/05/2023 08:25                   0                0\n",
       "117593  14/05/2023 08:30                   0                0\n",
       "117594  14/05/2023 08:35                   0                0\n",
       "117595  14/05/2023 08:40                   0                0\n",
       "117596  14/05/2023 08:45                 NaN                0\n",
       "\n",
       "[117597 rows x 3 columns]"
      ]
     },
     "execution_count": 52,
     "metadata": {},
     "output_type": "execute_result"
    }
   ],
   "source": [
    "#replacing missing values in the dataframe with nan\n",
    "\n",
    "df1= df1.replace('--', np.nan)\n",
    "df1"
   ]
  },
  {
   "cell_type": "code",
   "execution_count": 53,
   "id": "2073eb3b",
   "metadata": {},
   "outputs": [],
   "source": [
    "#changing the data type from object to numeric\n",
    "\n",
    "columns = ['Salmon_001_Rain(mm)', 'Gateway_Rain(mm)']\n",
    "\n",
    "df1[columns] = df1[columns].apply(pd.to_numeric)"
   ]
  },
  {
   "cell_type": "code",
   "execution_count": 54,
   "id": "deddcff8",
   "metadata": {},
   "outputs": [],
   "source": [
    "df1 = df1.replace(0, pd.NA)"
   ]
  },
  {
   "cell_type": "code",
   "execution_count": 55,
   "id": "9b4b3cc9",
   "metadata": {},
   "outputs": [
    {
     "data": {
      "text/plain": [
       "Date & Time                 0\n",
       "Salmon_001_Rain(mm)    115950\n",
       "Gateway_Rain(mm)       114706\n",
       "dtype: int64"
      ]
     },
     "execution_count": 55,
     "metadata": {},
     "output_type": "execute_result"
    }
   ],
   "source": [
    "df1.isnull().sum()"
   ]
  },
  {
   "cell_type": "code",
   "execution_count": 56,
   "id": "e30e66e9",
   "metadata": {},
   "outputs": [],
   "source": [
    "df1.dropna(inplace=True)"
   ]
  },
  {
   "cell_type": "code",
   "execution_count": 57,
   "id": "b28111bd",
   "metadata": {},
   "outputs": [
    {
     "name": "stdout",
     "output_type": "stream",
     "text": [
      "<class 'pandas.core.frame.DataFrame'>\n",
      "Index: 1055 entries, 13539 to 116800\n",
      "Data columns (total 3 columns):\n",
      " #   Column               Non-Null Count  Dtype \n",
      "---  ------               --------------  ----- \n",
      " 0   Date & Time          1055 non-null   object\n",
      " 1   Salmon_001_Rain(mm)  1055 non-null   object\n",
      " 2   Gateway_Rain(mm)     1055 non-null   object\n",
      "dtypes: object(3)\n",
      "memory usage: 33.0+ KB\n"
     ]
    }
   ],
   "source": [
    "df1.info()"
   ]
  },
  {
   "cell_type": "code",
   "execution_count": 58,
   "id": "5f2504e6",
   "metadata": {},
   "outputs": [],
   "source": [
    "#changing the data type from object to numeric\n",
    "\n",
    "columns = ['Salmon_001_Rain(mm)', 'Gateway_Rain(mm)']\n",
    "\n",
    "df1[columns] = df1[columns].apply(pd.to_numeric)"
   ]
  },
  {
   "cell_type": "code",
   "execution_count": 59,
   "id": "fcf1446e",
   "metadata": {},
   "outputs": [],
   "source": [
    "# Define the regression model\n",
    "def linear_model(beta, x):\n",
    "    return beta[0]*x - 0"
   ]
  },
  {
   "cell_type": "code",
   "execution_count": 60,
   "id": "3c0f0b1c",
   "metadata": {},
   "outputs": [],
   "source": [
    "# Create the ODR data object\n",
    "x = df1['Gateway_Rain(mm)']  # Independent variable\n",
    "y = df1['Salmon_001_Rain(mm)']  # Dependent variable\n",
    "data = RealData(x, y)"
   ]
  },
  {
   "cell_type": "code",
   "execution_count": 61,
   "id": "a231aad1",
   "metadata": {},
   "outputs": [],
   "source": [
    "# Define the ODR model\n",
    "model = Model(linear_model)"
   ]
  },
  {
   "cell_type": "code",
   "execution_count": 62,
   "id": "6e7873c8",
   "metadata": {},
   "outputs": [
    {
     "name": "stdout",
     "output_type": "stream",
     "text": [
      "Beta: [0.56668992]\n",
      "Beta Std Error: [0.0182038]\n",
      "Beta Covariance: [[7.39214671e-05]]\n",
      "Residual Variance: 4.482843938946219\n",
      "Inverse Condition #: 1.0000000000000002\n",
      "Reason(s) for Halting:\n",
      "  Sum of squares convergence\n"
     ]
    }
   ],
   "source": [
    "# Perform the ODR regression\n",
    "odr = ODR(data, model, beta0=[1])  # Initial guess for the parameter\n",
    "odr_result = odr.run()\n",
    "odr.set_job(fit_type=0)\n",
    "\n",
    "odr_result.pprint()"
   ]
  },
  {
   "cell_type": "code",
   "execution_count": 63,
   "id": "9deac76e",
   "metadata": {},
   "outputs": [
    {
     "name": "stdout",
     "output_type": "stream",
     "text": [
      "Optimized parameter (slope): 0.5666899194663643\n"
     ]
    }
   ],
   "source": [
    "# Get the optimized parameters\n",
    "beta_optimized = odr_result.beta\n",
    "\n",
    "# Print the optimized parameters\n",
    "slope = beta_optimized[0]\n",
    "print(\"Optimized parameter (slope):\", slope)"
   ]
  },
  {
   "cell_type": "code",
   "execution_count": 64,
   "id": "2cd7cab5",
   "metadata": {},
   "outputs": [],
   "source": [
    "# Compute R-squared value\n",
    "y_predicted = linear_model(beta_optimized, x)\n",
    "ss_total = np.sum((y - np.mean(y))**2)\n",
    "ss_residual = np.sum((y - y_predicted)**2)\n",
    "r_squared = 1 - (ss_residual / ss_total)\n",
    "#print(\"R-squared:\", r_squared"
   ]
  },
  {
   "cell_type": "code",
   "execution_count": 65,
   "id": "835d7ef9",
   "metadata": {},
   "outputs": [
    {
     "data": {
      "image/png": "[encoded data removed]",
      "text/plain": [
       "<Figure size 640x480 with 1 Axes>"
      ]
     },
     "metadata": {},
     "output_type": "display_data"
    }
   ],
   "source": [
    "# Plot the data points and regression line\n",
    "plt.scatter(x, y)\n",
    "plt.plot(x, y_predicted, color='red', label=f'Trendline (R-squared: {r_squared:.2f})')\n",
    "plt.xlabel('Gateway')\n",
    "plt.ylabel('Salmon_001')\n",
    "plt.title('Orthogonal Distance Regression for Gateway and Salmon_001 Between April 2022 - May 2023')\n",
    "\n",
    "# Show legend\n",
    "plt.legend()\n",
    "\n",
    "\n",
    "\n",
    "# Add equation of the trendline\n",
    "equation = f'y = {slope:.2f}x'\n",
    "plt.text(40, 15, equation, fontsize=12)\n",
    "\n",
    "plt.show()"
   ]
  },
  {
   "cell_type": "code",
   "execution_count": 66,
   "id": "16e49942",
   "metadata": {},
   "outputs": [],
   "source": [
    "new_ven= [a,e,i]"
   ]
  },
  {
   "cell_type": "code",
   "execution_count": 67,
   "id": "abe21deb",
   "metadata": {},
   "outputs": [
    {
     "data": {
      "text/html": [
       "<div>\n",
       "<style scoped>\n",
       "    .dataframe tbody tr th:only-of-type {\n",
       "        vertical-align: middle;\n",
       "    }\n",
       "\n",
       "    .dataframe tbody tr th {\n",
       "        vertical-align: top;\n",
       "    }\n",
       "\n",
       "    .dataframe thead th {\n",
       "        text-align: right;\n",
       "    }\n",
       "</style>\n",
       "<table border=\"1\" class=\"dataframe\">\n",
       "  <thead>\n",
       "    <tr style=\"text-align: right;\">\n",
       "      <th></th>\n",
       "      <th>Date &amp; Time</th>\n",
       "      <th>Sports_001_Rain(mm)</th>\n",
       "      <th>Gateway_Rain(mm)</th>\n",
       "    </tr>\n",
       "  </thead>\n",
       "  <tbody>\n",
       "    <tr>\n",
       "      <th>0</th>\n",
       "      <td>01/04/2022 00:00</td>\n",
       "      <td>0</td>\n",
       "      <td>0</td>\n",
       "    </tr>\n",
       "    <tr>\n",
       "      <th>1</th>\n",
       "      <td>01/04/2022 00:05</td>\n",
       "      <td>0</td>\n",
       "      <td>0</td>\n",
       "    </tr>\n",
       "    <tr>\n",
       "      <th>2</th>\n",
       "      <td>01/04/2022 00:10</td>\n",
       "      <td>0</td>\n",
       "      <td>0</td>\n",
       "    </tr>\n",
       "    <tr>\n",
       "      <th>3</th>\n",
       "      <td>01/04/2022 00:15</td>\n",
       "      <td>0</td>\n",
       "      <td>0</td>\n",
       "    </tr>\n",
       "    <tr>\n",
       "      <th>4</th>\n",
       "      <td>01/04/2022 00:20</td>\n",
       "      <td>0</td>\n",
       "      <td>0</td>\n",
       "    </tr>\n",
       "    <tr>\n",
       "      <th>...</th>\n",
       "      <td>...</td>\n",
       "      <td>...</td>\n",
       "      <td>...</td>\n",
       "    </tr>\n",
       "    <tr>\n",
       "      <th>117592</th>\n",
       "      <td>14/05/2023 08:25</td>\n",
       "      <td>0</td>\n",
       "      <td>0</td>\n",
       "    </tr>\n",
       "    <tr>\n",
       "      <th>117593</th>\n",
       "      <td>14/05/2023 08:30</td>\n",
       "      <td>0</td>\n",
       "      <td>0</td>\n",
       "    </tr>\n",
       "    <tr>\n",
       "      <th>117594</th>\n",
       "      <td>14/05/2023 08:35</td>\n",
       "      <td>0</td>\n",
       "      <td>0</td>\n",
       "    </tr>\n",
       "    <tr>\n",
       "      <th>117595</th>\n",
       "      <td>14/05/2023 08:40</td>\n",
       "      <td>0</td>\n",
       "      <td>0</td>\n",
       "    </tr>\n",
       "    <tr>\n",
       "      <th>117596</th>\n",
       "      <td>14/05/2023 08:45</td>\n",
       "      <td>0</td>\n",
       "      <td>0</td>\n",
       "    </tr>\n",
       "  </tbody>\n",
       "</table>\n",
       "<p>117597 rows × 3 columns</p>\n",
       "</div>"
      ],
      "text/plain": [
       "             Date & Time Sports_001_Rain(mm) Gateway_Rain(mm)\n",
       "0       01/04/2022 00:00                   0                0\n",
       "1       01/04/2022 00:05                   0                0\n",
       "2       01/04/2022 00:10                   0                0\n",
       "3       01/04/2022 00:15                   0                0\n",
       "4       01/04/2022 00:20                   0                0\n",
       "...                  ...                 ...              ...\n",
       "117592  14/05/2023 08:25                   0                0\n",
       "117593  14/05/2023 08:30                   0                0\n",
       "117594  14/05/2023 08:35                   0                0\n",
       "117595  14/05/2023 08:40                   0                0\n",
       "117596  14/05/2023 08:45                   0                0\n",
       "\n",
       "[117597 rows x 3 columns]"
      ]
     },
     "execution_count": 67,
     "metadata": {},
     "output_type": "execute_result"
    }
   ],
   "source": [
    "df1 = pd.concat(new_ven, axis=1)\n",
    "df1"
   ]
  },
  {
   "cell_type": "code",
   "execution_count": 68,
   "id": "8a10307b",
   "metadata": {},
   "outputs": [
    {
     "data": {
      "text/html": [
       "<div>\n",
       "<style scoped>\n",
       "    .dataframe tbody tr th:only-of-type {\n",
       "        vertical-align: middle;\n",
       "    }\n",
       "\n",
       "    .dataframe tbody tr th {\n",
       "        vertical-align: top;\n",
       "    }\n",
       "\n",
       "    .dataframe thead th {\n",
       "        text-align: right;\n",
       "    }\n",
       "</style>\n",
       "<table border=\"1\" class=\"dataframe\">\n",
       "  <thead>\n",
       "    <tr style=\"text-align: right;\">\n",
       "      <th></th>\n",
       "      <th>Date &amp; Time</th>\n",
       "      <th>Sports_001_Rain(mm)</th>\n",
       "      <th>Gateway_Rain(mm)</th>\n",
       "    </tr>\n",
       "  </thead>\n",
       "  <tbody>\n",
       "    <tr>\n",
       "      <th>0</th>\n",
       "      <td>01/04/2022 00:00</td>\n",
       "      <td>0</td>\n",
       "      <td>0</td>\n",
       "    </tr>\n",
       "    <tr>\n",
       "      <th>1</th>\n",
       "      <td>01/04/2022 00:05</td>\n",
       "      <td>0</td>\n",
       "      <td>0</td>\n",
       "    </tr>\n",
       "    <tr>\n",
       "      <th>2</th>\n",
       "      <td>01/04/2022 00:10</td>\n",
       "      <td>0</td>\n",
       "      <td>0</td>\n",
       "    </tr>\n",
       "    <tr>\n",
       "      <th>3</th>\n",
       "      <td>01/04/2022 00:15</td>\n",
       "      <td>0</td>\n",
       "      <td>0</td>\n",
       "    </tr>\n",
       "    <tr>\n",
       "      <th>4</th>\n",
       "      <td>01/04/2022 00:20</td>\n",
       "      <td>0</td>\n",
       "      <td>0</td>\n",
       "    </tr>\n",
       "    <tr>\n",
       "      <th>...</th>\n",
       "      <td>...</td>\n",
       "      <td>...</td>\n",
       "      <td>...</td>\n",
       "    </tr>\n",
       "    <tr>\n",
       "      <th>117592</th>\n",
       "      <td>14/05/2023 08:25</td>\n",
       "      <td>0</td>\n",
       "      <td>0</td>\n",
       "    </tr>\n",
       "    <tr>\n",
       "      <th>117593</th>\n",
       "      <td>14/05/2023 08:30</td>\n",
       "      <td>0</td>\n",
       "      <td>0</td>\n",
       "    </tr>\n",
       "    <tr>\n",
       "      <th>117594</th>\n",
       "      <td>14/05/2023 08:35</td>\n",
       "      <td>0</td>\n",
       "      <td>0</td>\n",
       "    </tr>\n",
       "    <tr>\n",
       "      <th>117595</th>\n",
       "      <td>14/05/2023 08:40</td>\n",
       "      <td>0</td>\n",
       "      <td>0</td>\n",
       "    </tr>\n",
       "    <tr>\n",
       "      <th>117596</th>\n",
       "      <td>14/05/2023 08:45</td>\n",
       "      <td>0</td>\n",
       "      <td>0</td>\n",
       "    </tr>\n",
       "  </tbody>\n",
       "</table>\n",
       "<p>117597 rows × 3 columns</p>\n",
       "</div>"
      ],
      "text/plain": [
       "             Date & Time Sports_001_Rain(mm) Gateway_Rain(mm)\n",
       "0       01/04/2022 00:00                   0                0\n",
       "1       01/04/2022 00:05                   0                0\n",
       "2       01/04/2022 00:10                   0                0\n",
       "3       01/04/2022 00:15                   0                0\n",
       "4       01/04/2022 00:20                   0                0\n",
       "...                  ...                 ...              ...\n",
       "117592  14/05/2023 08:25                   0                0\n",
       "117593  14/05/2023 08:30                   0                0\n",
       "117594  14/05/2023 08:35                   0                0\n",
       "117595  14/05/2023 08:40                   0                0\n",
       "117596  14/05/2023 08:45                   0                0\n",
       "\n",
       "[117597 rows x 3 columns]"
      ]
     },
     "execution_count": 68,
     "metadata": {},
     "output_type": "execute_result"
    }
   ],
   "source": [
    "#replacing missing values in the dataframe with nan\n",
    "\n",
    "df1= df1.replace('--', np.nan)\n",
    "df1"
   ]
  },
  {
   "cell_type": "code",
   "execution_count": 69,
   "id": "a76a2698",
   "metadata": {},
   "outputs": [],
   "source": [
    "#changing the data type from object to numeric\n",
    "\n",
    "columns = ['Gateway_Rain(mm)', 'Sports_001_Rain(mm)']\n",
    "\n",
    "df1[columns] = df1[columns].apply(pd.to_numeric)"
   ]
  },
  {
   "cell_type": "code",
   "execution_count": 70,
   "id": "167e4663",
   "metadata": {},
   "outputs": [],
   "source": [
    "df1 = df1.replace(0, pd.NA)"
   ]
  },
  {
   "cell_type": "code",
   "execution_count": 71,
   "id": "de6a59b3",
   "metadata": {},
   "outputs": [],
   "source": [
    "df1.dropna(inplace=True)"
   ]
  },
  {
   "cell_type": "code",
   "execution_count": 72,
   "id": "7c90e094",
   "metadata": {},
   "outputs": [
    {
     "name": "stdout",
     "output_type": "stream",
     "text": [
      "<class 'pandas.core.frame.DataFrame'>\n",
      "Index: 835 entries, 13542 to 116801\n",
      "Data columns (total 3 columns):\n",
      " #   Column               Non-Null Count  Dtype \n",
      "---  ------               --------------  ----- \n",
      " 0   Date & Time          835 non-null    object\n",
      " 1   Sports_001_Rain(mm)  835 non-null    object\n",
      " 2   Gateway_Rain(mm)     835 non-null    object\n",
      "dtypes: object(3)\n",
      "memory usage: 26.1+ KB\n"
     ]
    }
   ],
   "source": [
    "df1.info()"
   ]
  },
  {
   "cell_type": "code",
   "execution_count": 73,
   "id": "db8bc752",
   "metadata": {},
   "outputs": [],
   "source": [
    "#changing the data type from object to numeric\n",
    "\n",
    "columns = ['Gateway_Rain(mm)', 'Sports_001_Rain(mm)']\n",
    "\n",
    "df1[columns] = df1[columns].apply(pd.to_numeric)"
   ]
  },
  {
   "cell_type": "code",
   "execution_count": 74,
   "id": "cb8b6c60",
   "metadata": {},
   "outputs": [],
   "source": [
    "# Define the regression model\n",
    "def linear_model(beta, x):\n",
    "    return beta[0]*x - 0"
   ]
  },
  {
   "cell_type": "code",
   "execution_count": 75,
   "id": "2741f95f",
   "metadata": {},
   "outputs": [],
   "source": [
    "# Create the ODR data object\n",
    "x = df1['Gateway_Rain(mm)']  # Independent variable\n",
    "y = df1['Sports_001_Rain(mm)']  # Dependent variable\n",
    "data = RealData(x, y)"
   ]
  },
  {
   "cell_type": "code",
   "execution_count": 76,
   "id": "7d01ef1b",
   "metadata": {},
   "outputs": [],
   "source": [
    "# Define the ODR model\n",
    "model = Model(linear_model)"
   ]
  },
  {
   "cell_type": "code",
   "execution_count": 77,
   "id": "77d42104",
   "metadata": {},
   "outputs": [
    {
     "name": "stdout",
     "output_type": "stream",
     "text": [
      "Beta: [0.50595227]\n",
      "Beta Std Error: [0.01119916]\n",
      "Beta Covariance: [[4.43238584e-05]]\n",
      "Residual Variance: 2.8296530535286206\n",
      "Inverse Condition #: 1.0\n",
      "Reason(s) for Halting:\n",
      "  Sum of squares convergence\n"
     ]
    }
   ],
   "source": [
    "# Perform the ODR regression\n",
    "odr = ODR(data, model, beta0=[1])  # Initial guess for the parameter\n",
    "odr_result = odr.run()\n",
    "odr.set_job(fit_type=0)\n",
    "\n",
    "odr_result.pprint()"
   ]
  },
  {
   "cell_type": "code",
   "execution_count": 78,
   "id": "42866058",
   "metadata": {},
   "outputs": [
    {
     "name": "stdout",
     "output_type": "stream",
     "text": [
      "Optimized parameter (slope): 0.5059522666593965\n"
     ]
    }
   ],
   "source": [
    "# Get the optimized parameters\n",
    "beta_optimized = odr_result.beta\n",
    "\n",
    "# Print the optimized parameters\n",
    "slope = beta_optimized[0]\n",
    "print(\"Optimized parameter (slope):\", slope)"
   ]
  },
  {
   "cell_type": "code",
   "execution_count": 79,
   "id": "d004dfb9",
   "metadata": {},
   "outputs": [],
   "source": [
    "# Compute R-squared value\n",
    "y_predicted = linear_model(beta_optimized, x)\n",
    "ss_total = np.sum((y - np.mean(y))**2)\n",
    "ss_residual = np.sum((y - y_predicted)**2)\n",
    "r_squared = 1 - (ss_residual / ss_total)\n",
    "#print(\"R-squared:\", r_squared"
   ]
  },
  {
   "cell_type": "code",
   "execution_count": 80,
   "id": "1ad23710",
   "metadata": {},
   "outputs": [
    {
     "data": {
      "image/png": "[encoded data removed]",
      "text/plain": [
       "<Figure size 640x480 with 1 Axes>"
      ]
     },
     "metadata": {},
     "output_type": "display_data"
    }
   ],
   "source": [
    "# Plot the data points and regression line\n",
    "plt.scatter(x, y)\n",
    "plt.plot(x, y_predicted, color='red', label=f'Trendline (R-squared: {r_squared:.2f})')\n",
    "plt.xlabel('Gateway')\n",
    "plt.ylabel('Sports_001')\n",
    "plt.title('Orthogonal Distance Regression for Gateway and Sports_001 Between April 2022 - May 2023')\n",
    "\n",
    "# Show legend\n",
    "plt.legend()\n",
    "\n",
    "\n",
    "\n",
    "# Add equation of the trendline\n",
    "equation = f'y = {slope:.2f}x'\n",
    "plt.text(40, 15, equation, fontsize=12)\n",
    "\n",
    "plt.show()"
   ]
  },
  {
   "cell_type": "code",
   "execution_count": 81,
   "id": "452a73f2",
   "metadata": {},
   "outputs": [],
   "source": [
    "new_wes= [a,f,i]"
   ]
  },
  {
   "cell_type": "code",
   "execution_count": 82,
   "id": "f9c20955",
   "metadata": {},
   "outputs": [
    {
     "data": {
      "text/html": [
       "<div>\n",
       "<style scoped>\n",
       "    .dataframe tbody tr th:only-of-type {\n",
       "        vertical-align: middle;\n",
       "    }\n",
       "\n",
       "    .dataframe tbody tr th {\n",
       "        vertical-align: top;\n",
       "    }\n",
       "\n",
       "    .dataframe thead th {\n",
       "        text-align: right;\n",
       "    }\n",
       "</style>\n",
       "<table border=\"1\" class=\"dataframe\">\n",
       "  <thead>\n",
       "    <tr style=\"text-align: right;\">\n",
       "      <th></th>\n",
       "      <th>Date &amp; Time</th>\n",
       "      <th>Venn_001_Rain(mm)</th>\n",
       "      <th>Gateway_Rain(mm)</th>\n",
       "    </tr>\n",
       "  </thead>\n",
       "  <tbody>\n",
       "    <tr>\n",
       "      <th>0</th>\n",
       "      <td>01/04/2022 00:00</td>\n",
       "      <td>0</td>\n",
       "      <td>0</td>\n",
       "    </tr>\n",
       "    <tr>\n",
       "      <th>1</th>\n",
       "      <td>01/04/2022 00:05</td>\n",
       "      <td>0</td>\n",
       "      <td>0</td>\n",
       "    </tr>\n",
       "    <tr>\n",
       "      <th>2</th>\n",
       "      <td>01/04/2022 00:10</td>\n",
       "      <td>0</td>\n",
       "      <td>0</td>\n",
       "    </tr>\n",
       "    <tr>\n",
       "      <th>3</th>\n",
       "      <td>01/04/2022 00:15</td>\n",
       "      <td>0</td>\n",
       "      <td>0</td>\n",
       "    </tr>\n",
       "    <tr>\n",
       "      <th>4</th>\n",
       "      <td>01/04/2022 00:20</td>\n",
       "      <td>0</td>\n",
       "      <td>0</td>\n",
       "    </tr>\n",
       "    <tr>\n",
       "      <th>...</th>\n",
       "      <td>...</td>\n",
       "      <td>...</td>\n",
       "      <td>...</td>\n",
       "    </tr>\n",
       "    <tr>\n",
       "      <th>117592</th>\n",
       "      <td>14/05/2023 08:25</td>\n",
       "      <td>0</td>\n",
       "      <td>0</td>\n",
       "    </tr>\n",
       "    <tr>\n",
       "      <th>117593</th>\n",
       "      <td>14/05/2023 08:30</td>\n",
       "      <td>0</td>\n",
       "      <td>0</td>\n",
       "    </tr>\n",
       "    <tr>\n",
       "      <th>117594</th>\n",
       "      <td>14/05/2023 08:35</td>\n",
       "      <td>0</td>\n",
       "      <td>0</td>\n",
       "    </tr>\n",
       "    <tr>\n",
       "      <th>117595</th>\n",
       "      <td>14/05/2023 08:40</td>\n",
       "      <td>0</td>\n",
       "      <td>0</td>\n",
       "    </tr>\n",
       "    <tr>\n",
       "      <th>117596</th>\n",
       "      <td>14/05/2023 08:45</td>\n",
       "      <td>0</td>\n",
       "      <td>0</td>\n",
       "    </tr>\n",
       "  </tbody>\n",
       "</table>\n",
       "<p>117597 rows × 3 columns</p>\n",
       "</div>"
      ],
      "text/plain": [
       "             Date & Time Venn_001_Rain(mm) Gateway_Rain(mm)\n",
       "0       01/04/2022 00:00                 0                0\n",
       "1       01/04/2022 00:05                 0                0\n",
       "2       01/04/2022 00:10                 0                0\n",
       "3       01/04/2022 00:15                 0                0\n",
       "4       01/04/2022 00:20                 0                0\n",
       "...                  ...               ...              ...\n",
       "117592  14/05/2023 08:25                 0                0\n",
       "117593  14/05/2023 08:30                 0                0\n",
       "117594  14/05/2023 08:35                 0                0\n",
       "117595  14/05/2023 08:40                 0                0\n",
       "117596  14/05/2023 08:45                 0                0\n",
       "\n",
       "[117597 rows x 3 columns]"
      ]
     },
     "execution_count": 82,
     "metadata": {},
     "output_type": "execute_result"
    }
   ],
   "source": [
    "df1 = pd.concat(new_wes, axis=1)\n",
    "df1"
   ]
  },
  {
   "cell_type": "code",
   "execution_count": 83,
   "id": "03e89bdb",
   "metadata": {},
   "outputs": [
    {
     "data": {
      "text/html": [
       "<div>\n",
       "<style scoped>\n",
       "    .dataframe tbody tr th:only-of-type {\n",
       "        vertical-align: middle;\n",
       "    }\n",
       "\n",
       "    .dataframe tbody tr th {\n",
       "        vertical-align: top;\n",
       "    }\n",
       "\n",
       "    .dataframe thead th {\n",
       "        text-align: right;\n",
       "    }\n",
       "</style>\n",
       "<table border=\"1\" class=\"dataframe\">\n",
       "  <thead>\n",
       "    <tr style=\"text-align: right;\">\n",
       "      <th></th>\n",
       "      <th>Date &amp; Time</th>\n",
       "      <th>Venn_001_Rain(mm)</th>\n",
       "      <th>Gateway_Rain(mm)</th>\n",
       "    </tr>\n",
       "  </thead>\n",
       "  <tbody>\n",
       "    <tr>\n",
       "      <th>0</th>\n",
       "      <td>01/04/2022 00:00</td>\n",
       "      <td>0</td>\n",
       "      <td>0</td>\n",
       "    </tr>\n",
       "    <tr>\n",
       "      <th>1</th>\n",
       "      <td>01/04/2022 00:05</td>\n",
       "      <td>0</td>\n",
       "      <td>0</td>\n",
       "    </tr>\n",
       "    <tr>\n",
       "      <th>2</th>\n",
       "      <td>01/04/2022 00:10</td>\n",
       "      <td>0</td>\n",
       "      <td>0</td>\n",
       "    </tr>\n",
       "    <tr>\n",
       "      <th>3</th>\n",
       "      <td>01/04/2022 00:15</td>\n",
       "      <td>0</td>\n",
       "      <td>0</td>\n",
       "    </tr>\n",
       "    <tr>\n",
       "      <th>4</th>\n",
       "      <td>01/04/2022 00:20</td>\n",
       "      <td>0</td>\n",
       "      <td>0</td>\n",
       "    </tr>\n",
       "    <tr>\n",
       "      <th>...</th>\n",
       "      <td>...</td>\n",
       "      <td>...</td>\n",
       "      <td>...</td>\n",
       "    </tr>\n",
       "    <tr>\n",
       "      <th>117592</th>\n",
       "      <td>14/05/2023 08:25</td>\n",
       "      <td>0</td>\n",
       "      <td>0</td>\n",
       "    </tr>\n",
       "    <tr>\n",
       "      <th>117593</th>\n",
       "      <td>14/05/2023 08:30</td>\n",
       "      <td>0</td>\n",
       "      <td>0</td>\n",
       "    </tr>\n",
       "    <tr>\n",
       "      <th>117594</th>\n",
       "      <td>14/05/2023 08:35</td>\n",
       "      <td>0</td>\n",
       "      <td>0</td>\n",
       "    </tr>\n",
       "    <tr>\n",
       "      <th>117595</th>\n",
       "      <td>14/05/2023 08:40</td>\n",
       "      <td>0</td>\n",
       "      <td>0</td>\n",
       "    </tr>\n",
       "    <tr>\n",
       "      <th>117596</th>\n",
       "      <td>14/05/2023 08:45</td>\n",
       "      <td>0</td>\n",
       "      <td>0</td>\n",
       "    </tr>\n",
       "  </tbody>\n",
       "</table>\n",
       "<p>117597 rows × 3 columns</p>\n",
       "</div>"
      ],
      "text/plain": [
       "             Date & Time Venn_001_Rain(mm) Gateway_Rain(mm)\n",
       "0       01/04/2022 00:00                 0                0\n",
       "1       01/04/2022 00:05                 0                0\n",
       "2       01/04/2022 00:10                 0                0\n",
       "3       01/04/2022 00:15                 0                0\n",
       "4       01/04/2022 00:20                 0                0\n",
       "...                  ...               ...              ...\n",
       "117592  14/05/2023 08:25                 0                0\n",
       "117593  14/05/2023 08:30                 0                0\n",
       "117594  14/05/2023 08:35                 0                0\n",
       "117595  14/05/2023 08:40                 0                0\n",
       "117596  14/05/2023 08:45                 0                0\n",
       "\n",
       "[117597 rows x 3 columns]"
      ]
     },
     "execution_count": 83,
     "metadata": {},
     "output_type": "execute_result"
    }
   ],
   "source": [
    "#replacing missing values in the dataframe with nan\n",
    "\n",
    "df1= df1.replace('--', np.nan)\n",
    "df1"
   ]
  },
  {
   "cell_type": "code",
   "execution_count": 84,
   "id": "950479b6",
   "metadata": {},
   "outputs": [],
   "source": [
    "#changing the data type from object to numeric\n",
    "\n",
    "columns = ['Venn_001_Rain(mm)', 'Gateway_Rain(mm)']\n",
    "\n",
    "df1[columns] = df1[columns].apply(pd.to_numeric)"
   ]
  },
  {
   "cell_type": "code",
   "execution_count": 85,
   "id": "f084c1c4",
   "metadata": {},
   "outputs": [],
   "source": [
    "df1 = df1.replace(0, pd.NA)"
   ]
  },
  {
   "cell_type": "code",
   "execution_count": 86,
   "id": "d09c6981",
   "metadata": {},
   "outputs": [],
   "source": [
    "df1.dropna(inplace=True)"
   ]
  },
  {
   "cell_type": "code",
   "execution_count": 87,
   "id": "520b2e3f",
   "metadata": {},
   "outputs": [
    {
     "name": "stdout",
     "output_type": "stream",
     "text": [
      "<class 'pandas.core.frame.DataFrame'>\n",
      "Index: 813 entries, 13542 to 116801\n",
      "Data columns (total 3 columns):\n",
      " #   Column             Non-Null Count  Dtype \n",
      "---  ------             --------------  ----- \n",
      " 0   Date & Time        813 non-null    object\n",
      " 1   Venn_001_Rain(mm)  813 non-null    object\n",
      " 2   Gateway_Rain(mm)   813 non-null    object\n",
      "dtypes: object(3)\n",
      "memory usage: 25.4+ KB\n"
     ]
    }
   ],
   "source": [
    "df1.info()"
   ]
  },
  {
   "cell_type": "code",
   "execution_count": 88,
   "id": "e1d93eae",
   "metadata": {},
   "outputs": [],
   "source": [
    "#changing the data type from object to numeric\n",
    "\n",
    "columns = ['Venn_001_Rain(mm)', 'Gateway_Rain(mm)']\n",
    "\n",
    "df1[columns] = df1[columns].apply(pd.to_numeric)"
   ]
  },
  {
   "cell_type": "code",
   "execution_count": 89,
   "id": "8f4b8a29",
   "metadata": {},
   "outputs": [],
   "source": [
    "# Define the regression model\n",
    "def linear_model(beta, x):\n",
    "    return beta[0]*x - 0"
   ]
  },
  {
   "cell_type": "code",
   "execution_count": 90,
   "id": "08099d1f",
   "metadata": {},
   "outputs": [],
   "source": [
    "# Create the ODR data object\n",
    "x = df1['Gateway_Rain(mm)']  # Independent variable\n",
    "y = df1['Venn_001_Rain(mm)']  # Dependent variable\n",
    "data = RealData(x, y)"
   ]
  },
  {
   "cell_type": "code",
   "execution_count": 91,
   "id": "f3066258",
   "metadata": {},
   "outputs": [],
   "source": [
    "# Define the ODR model\n",
    "model = Model(linear_model)"
   ]
  },
  {
   "cell_type": "code",
   "execution_count": 92,
   "id": "e42de046",
   "metadata": {},
   "outputs": [
    {
     "name": "stdout",
     "output_type": "stream",
     "text": [
      "Beta: [0.34091886]\n",
      "Beta Std Error: [0.01011169]\n",
      "Beta Covariance: [[4.94420188e-05]]\n",
      "Residual Variance: 2.0680024528193823\n",
      "Inverse Condition #: 1.0\n",
      "Reason(s) for Halting:\n",
      "  Sum of squares convergence\n"
     ]
    }
   ],
   "source": [
    "# Perform the ODR regression\n",
    "odr = ODR(data, model, beta0=[1])  # Initial guess for the parameter\n",
    "odr_result = odr.run()\n",
    "odr.set_job(fit_type=0)\n",
    "\n",
    "odr_result.pprint()"
   ]
  },
  {
   "cell_type": "code",
   "execution_count": 93,
   "id": "3ecc6112",
   "metadata": {},
   "outputs": [
    {
     "name": "stdout",
     "output_type": "stream",
     "text": [
      "Optimized parameter (slope): 0.3409188623837759\n"
     ]
    }
   ],
   "source": [
    "# Get the optimized parameters\n",
    "beta_optimized = odr_result.beta\n",
    "\n",
    "# Print the optimized parameters\n",
    "slope = beta_optimized[0]\n",
    "print(\"Optimized parameter (slope):\", slope)"
   ]
  },
  {
   "cell_type": "code",
   "execution_count": 94,
   "id": "26bb7ba6",
   "metadata": {},
   "outputs": [],
   "source": [
    "# Compute R-squared value\n",
    "y_predicted = linear_model(beta_optimized, x)\n",
    "ss_total = np.sum((y - np.mean(y))**2)\n",
    "ss_residual = np.sum((y - y_predicted)**2)\n",
    "r_squared = 1 - (ss_residual / ss_total)\n",
    "#print(\"R-squared:\", r_squared"
   ]
  },
  {
   "cell_type": "code",
   "execution_count": 95,
   "id": "db0bec69",
   "metadata": {},
   "outputs": [
    {
     "data": {
      "image/png": "[encoded data removed]",
      "text/plain": [
       "<Figure size 640x480 with 1 Axes>"
      ]
     },
     "metadata": {},
     "output_type": "display_data"
    }
   ],
   "source": [
    "# Plot the data points and regression line\n",
    "plt.scatter(x, y)\n",
    "plt.plot(x, y_predicted, color='red', label=f'Trendline (R-squared: {r_squared:.2f})')\n",
    "plt.xlabel('Gateway')\n",
    "plt.ylabel('Venn_001')\n",
    "plt.title('Orthogonal Distance Regression for Gateway and Venn_001 Between April 2022 - May 2023')\n",
    "\n",
    "# Show legend\n",
    "plt.legend()\n",
    "\n",
    "\n",
    "\n",
    "# Add equation of the trendline\n",
    "equation = f'y = {slope:.2f}x'\n",
    "plt.text(40, 10, equation, fontsize=12)\n",
    "\n",
    "plt.show()"
   ]
  },
  {
   "cell_type": "code",
   "execution_count": 96,
   "id": "96882720",
   "metadata": {},
   "outputs": [],
   "source": [
    "new_wil= [a,g,i]"
   ]
  },
  {
   "cell_type": "code",
   "execution_count": 97,
   "id": "3aa75693",
   "metadata": {},
   "outputs": [
    {
     "data": {
      "text/html": [
       "<div>\n",
       "<style scoped>\n",
       "    .dataframe tbody tr th:only-of-type {\n",
       "        vertical-align: middle;\n",
       "    }\n",
       "\n",
       "    .dataframe tbody tr th {\n",
       "        vertical-align: top;\n",
       "    }\n",
       "\n",
       "    .dataframe thead th {\n",
       "        text-align: right;\n",
       "    }\n",
       "</style>\n",
       "<table border=\"1\" class=\"dataframe\">\n",
       "  <thead>\n",
       "    <tr style=\"text-align: right;\">\n",
       "      <th></th>\n",
       "      <th>Date &amp; Time</th>\n",
       "      <th>Westfield_002_Rain(mm)</th>\n",
       "      <th>Gateway_Rain(mm)</th>\n",
       "    </tr>\n",
       "  </thead>\n",
       "  <tbody>\n",
       "    <tr>\n",
       "      <th>0</th>\n",
       "      <td>01/04/2022 00:00</td>\n",
       "      <td>0</td>\n",
       "      <td>0</td>\n",
       "    </tr>\n",
       "    <tr>\n",
       "      <th>1</th>\n",
       "      <td>01/04/2022 00:05</td>\n",
       "      <td>0</td>\n",
       "      <td>0</td>\n",
       "    </tr>\n",
       "    <tr>\n",
       "      <th>2</th>\n",
       "      <td>01/04/2022 00:10</td>\n",
       "      <td>0</td>\n",
       "      <td>0</td>\n",
       "    </tr>\n",
       "    <tr>\n",
       "      <th>3</th>\n",
       "      <td>01/04/2022 00:15</td>\n",
       "      <td>0</td>\n",
       "      <td>0</td>\n",
       "    </tr>\n",
       "    <tr>\n",
       "      <th>4</th>\n",
       "      <td>01/04/2022 00:20</td>\n",
       "      <td>0</td>\n",
       "      <td>0</td>\n",
       "    </tr>\n",
       "    <tr>\n",
       "      <th>...</th>\n",
       "      <td>...</td>\n",
       "      <td>...</td>\n",
       "      <td>...</td>\n",
       "    </tr>\n",
       "    <tr>\n",
       "      <th>117592</th>\n",
       "      <td>14/05/2023 08:25</td>\n",
       "      <td>0</td>\n",
       "      <td>0</td>\n",
       "    </tr>\n",
       "    <tr>\n",
       "      <th>117593</th>\n",
       "      <td>14/05/2023 08:30</td>\n",
       "      <td>0</td>\n",
       "      <td>0</td>\n",
       "    </tr>\n",
       "    <tr>\n",
       "      <th>117594</th>\n",
       "      <td>14/05/2023 08:35</td>\n",
       "      <td>0</td>\n",
       "      <td>0</td>\n",
       "    </tr>\n",
       "    <tr>\n",
       "      <th>117595</th>\n",
       "      <td>14/05/2023 08:40</td>\n",
       "      <td>0</td>\n",
       "      <td>0</td>\n",
       "    </tr>\n",
       "    <tr>\n",
       "      <th>117596</th>\n",
       "      <td>14/05/2023 08:45</td>\n",
       "      <td>0</td>\n",
       "      <td>0</td>\n",
       "    </tr>\n",
       "  </tbody>\n",
       "</table>\n",
       "<p>117597 rows × 3 columns</p>\n",
       "</div>"
      ],
      "text/plain": [
       "             Date & Time Westfield_002_Rain(mm) Gateway_Rain(mm)\n",
       "0       01/04/2022 00:00                      0                0\n",
       "1       01/04/2022 00:05                      0                0\n",
       "2       01/04/2022 00:10                      0                0\n",
       "3       01/04/2022 00:15                      0                0\n",
       "4       01/04/2022 00:20                      0                0\n",
       "...                  ...                    ...              ...\n",
       "117592  14/05/2023 08:25                      0                0\n",
       "117593  14/05/2023 08:30                      0                0\n",
       "117594  14/05/2023 08:35                      0                0\n",
       "117595  14/05/2023 08:40                      0                0\n",
       "117596  14/05/2023 08:45                      0                0\n",
       "\n",
       "[117597 rows x 3 columns]"
      ]
     },
     "execution_count": 97,
     "metadata": {},
     "output_type": "execute_result"
    }
   ],
   "source": [
    "df1 = pd.concat(new_wil, axis=1)\n",
    "df1"
   ]
  },
  {
   "cell_type": "code",
   "execution_count": 98,
   "id": "51f2f49f",
   "metadata": {},
   "outputs": [
    {
     "data": {
      "text/html": [
       "<div>\n",
       "<style scoped>\n",
       "    .dataframe tbody tr th:only-of-type {\n",
       "        vertical-align: middle;\n",
       "    }\n",
       "\n",
       "    .dataframe tbody tr th {\n",
       "        vertical-align: top;\n",
       "    }\n",
       "\n",
       "    .dataframe thead th {\n",
       "        text-align: right;\n",
       "    }\n",
       "</style>\n",
       "<table border=\"1\" class=\"dataframe\">\n",
       "  <thead>\n",
       "    <tr style=\"text-align: right;\">\n",
       "      <th></th>\n",
       "      <th>Date &amp; Time</th>\n",
       "      <th>Westfield_002_Rain(mm)</th>\n",
       "      <th>Gateway_Rain(mm)</th>\n",
       "    </tr>\n",
       "  </thead>\n",
       "  <tbody>\n",
       "    <tr>\n",
       "      <th>0</th>\n",
       "      <td>01/04/2022 00:00</td>\n",
       "      <td>0</td>\n",
       "      <td>0</td>\n",
       "    </tr>\n",
       "    <tr>\n",
       "      <th>1</th>\n",
       "      <td>01/04/2022 00:05</td>\n",
       "      <td>0</td>\n",
       "      <td>0</td>\n",
       "    </tr>\n",
       "    <tr>\n",
       "      <th>2</th>\n",
       "      <td>01/04/2022 00:10</td>\n",
       "      <td>0</td>\n",
       "      <td>0</td>\n",
       "    </tr>\n",
       "    <tr>\n",
       "      <th>3</th>\n",
       "      <td>01/04/2022 00:15</td>\n",
       "      <td>0</td>\n",
       "      <td>0</td>\n",
       "    </tr>\n",
       "    <tr>\n",
       "      <th>4</th>\n",
       "      <td>01/04/2022 00:20</td>\n",
       "      <td>0</td>\n",
       "      <td>0</td>\n",
       "    </tr>\n",
       "    <tr>\n",
       "      <th>...</th>\n",
       "      <td>...</td>\n",
       "      <td>...</td>\n",
       "      <td>...</td>\n",
       "    </tr>\n",
       "    <tr>\n",
       "      <th>117592</th>\n",
       "      <td>14/05/2023 08:25</td>\n",
       "      <td>0</td>\n",
       "      <td>0</td>\n",
       "    </tr>\n",
       "    <tr>\n",
       "      <th>117593</th>\n",
       "      <td>14/05/2023 08:30</td>\n",
       "      <td>0</td>\n",
       "      <td>0</td>\n",
       "    </tr>\n",
       "    <tr>\n",
       "      <th>117594</th>\n",
       "      <td>14/05/2023 08:35</td>\n",
       "      <td>0</td>\n",
       "      <td>0</td>\n",
       "    </tr>\n",
       "    <tr>\n",
       "      <th>117595</th>\n",
       "      <td>14/05/2023 08:40</td>\n",
       "      <td>0</td>\n",
       "      <td>0</td>\n",
       "    </tr>\n",
       "    <tr>\n",
       "      <th>117596</th>\n",
       "      <td>14/05/2023 08:45</td>\n",
       "      <td>0</td>\n",
       "      <td>0</td>\n",
       "    </tr>\n",
       "  </tbody>\n",
       "</table>\n",
       "<p>117597 rows × 3 columns</p>\n",
       "</div>"
      ],
      "text/plain": [
       "             Date & Time Westfield_002_Rain(mm) Gateway_Rain(mm)\n",
       "0       01/04/2022 00:00                      0                0\n",
       "1       01/04/2022 00:05                      0                0\n",
       "2       01/04/2022 00:10                      0                0\n",
       "3       01/04/2022 00:15                      0                0\n",
       "4       01/04/2022 00:20                      0                0\n",
       "...                  ...                    ...              ...\n",
       "117592  14/05/2023 08:25                      0                0\n",
       "117593  14/05/2023 08:30                      0                0\n",
       "117594  14/05/2023 08:35                      0                0\n",
       "117595  14/05/2023 08:40                      0                0\n",
       "117596  14/05/2023 08:45                      0                0\n",
       "\n",
       "[117597 rows x 3 columns]"
      ]
     },
     "execution_count": 98,
     "metadata": {},
     "output_type": "execute_result"
    }
   ],
   "source": [
    "#replacing missing values in the dataframe with nan\n",
    "\n",
    "df1= df1.replace('--', np.nan)\n",
    "df1"
   ]
  },
  {
   "cell_type": "code",
   "execution_count": 99,
   "id": "9fdd2110",
   "metadata": {},
   "outputs": [],
   "source": [
    "#changing the data type from object to numeric\n",
    "\n",
    "columns = ['Gateway_Rain(mm)', 'Westfield_002_Rain(mm)']\n",
    "\n",
    "df1[columns] = df1[columns].apply(pd.to_numeric)"
   ]
  },
  {
   "cell_type": "code",
   "execution_count": 100,
   "id": "9cd993cc",
   "metadata": {},
   "outputs": [],
   "source": [
    "df1 = df1.replace(0, pd.NA)"
   ]
  },
  {
   "cell_type": "code",
   "execution_count": 101,
   "id": "24de2d66",
   "metadata": {},
   "outputs": [],
   "source": [
    "df1.dropna(inplace=True)"
   ]
  },
  {
   "cell_type": "code",
   "execution_count": 102,
   "id": "b65a37a6",
   "metadata": {},
   "outputs": [
    {
     "name": "stdout",
     "output_type": "stream",
     "text": [
      "<class 'pandas.core.frame.DataFrame'>\n",
      "Index: 761 entries, 13539 to 100572\n",
      "Data columns (total 3 columns):\n",
      " #   Column                  Non-Null Count  Dtype \n",
      "---  ------                  --------------  ----- \n",
      " 0   Date & Time             761 non-null    object\n",
      " 1   Westfield_002_Rain(mm)  761 non-null    object\n",
      " 2   Gateway_Rain(mm)        761 non-null    object\n",
      "dtypes: object(3)\n",
      "memory usage: 23.8+ KB\n"
     ]
    }
   ],
   "source": [
    "df1.info()"
   ]
  },
  {
   "cell_type": "code",
   "execution_count": 103,
   "id": "e32d1cbe",
   "metadata": {},
   "outputs": [],
   "source": [
    "#changing the data type from object to numeric\n",
    "\n",
    "columns = ['Gateway_Rain(mm)', 'Westfield_002_Rain(mm)']\n",
    "\n",
    "df1[columns] = df1[columns].apply(pd.to_numeric)"
   ]
  },
  {
   "cell_type": "code",
   "execution_count": 104,
   "id": "83eb3886",
   "metadata": {},
   "outputs": [],
   "source": [
    "# Define the regression model\n",
    "def linear_model(beta, x):\n",
    "    return beta[0]*x - 0"
   ]
  },
  {
   "cell_type": "code",
   "execution_count": 105,
   "id": "79c116ad",
   "metadata": {},
   "outputs": [],
   "source": [
    "# Create the ODR data object\n",
    "x = df1['Gateway_Rain(mm)']  # Independent variable\n",
    "y = df1['Westfield_002_Rain(mm)']  # Dependent variable\n",
    "data = RealData(x, y)"
   ]
  },
  {
   "cell_type": "code",
   "execution_count": 106,
   "id": "dda7d8c9",
   "metadata": {},
   "outputs": [],
   "source": [
    "# Define the ODR model\n",
    "model = Model(linear_model)"
   ]
  },
  {
   "cell_type": "code",
   "execution_count": 107,
   "id": "3c74daf3",
   "metadata": {},
   "outputs": [
    {
     "name": "stdout",
     "output_type": "stream",
     "text": [
      "Beta: [0.58964897]\n",
      "Beta Std Error: [0.01732525]\n",
      "Beta Covariance: [[0.0050719]]\n",
      "Residual Variance: 0.059181795147254475\n",
      "Inverse Condition #: 1.0\n",
      "Reason(s) for Halting:\n",
      "  Sum of squares convergence\n"
     ]
    }
   ],
   "source": [
    "# Perform the ODR regression\n",
    "odr = ODR(data, model, beta0=[1])  # Initial guess for the parameter\n",
    "odr_result = odr.run()\n",
    "odr.set_job(fit_type=0)\n",
    "\n",
    "odr_result.pprint()"
   ]
  },
  {
   "cell_type": "code",
   "execution_count": 108,
   "id": "cae0ff0e",
   "metadata": {},
   "outputs": [
    {
     "name": "stdout",
     "output_type": "stream",
     "text": [
      "Optimized parameter (slope): 0.5896489721363356\n"
     ]
    }
   ],
   "source": [
    "# Get the optimized parameters\n",
    "beta_optimized = odr_result.beta\n",
    "\n",
    "# Print the optimized parameters\n",
    "slope = beta_optimized[0]\n",
    "print(\"Optimized parameter (slope):\", slope)"
   ]
  },
  {
   "cell_type": "code",
   "execution_count": 109,
   "id": "992aa9d8",
   "metadata": {},
   "outputs": [],
   "source": [
    "# Compute R-squared value\n",
    "y_predicted = linear_model(beta_optimized, x)\n",
    "ss_total = np.sum((y - np.mean(y))**2)\n",
    "ss_residual = np.sum((y - y_predicted)**2)\n",
    "r_squared = 1 - (ss_residual / ss_total)\n",
    "#print(\"R-squared:\", r_squared"
   ]
  },
  {
   "cell_type": "code",
   "execution_count": 110,
   "id": "a1fd660a",
   "metadata": {},
   "outputs": [
    {
     "data": {
      "image/png": "[encoded data removed]",
      "text/plain": [
       "<Figure size 640x480 with 1 Axes>"
      ]
     },
     "metadata": {},
     "output_type": "display_data"
    }
   ],
   "source": [
    "# Plot the data points and regression line\n",
    "plt.scatter(x, y)\n",
    "plt.plot(x, y_predicted, color='red', label=f'Trendline (R-squared: {r_squared:.2f})')\n",
    "plt.xlabel('Gateway')\n",
    "plt.ylabel('Westfield_002')\n",
    "plt.title('Orthogonal Distance Regression for Gateway and Westfield_002 Between April 2022 - May 2023')\n",
    "\n",
    "# Show legend\n",
    "plt.legend()\n",
    "\n",
    "\n",
    "\n",
    "# Add equation of the trendline\n",
    "equation = f'y = {slope:.2f}x'\n",
    "plt.text(3, 1, equation, fontsize=12)\n",
    "\n",
    "plt.show()"
   ]
  },
  {
   "cell_type": "code",
   "execution_count": 111,
   "id": "cc41f984",
   "metadata": {},
   "outputs": [],
   "source": [
    "new_men= [a,h,i]"
   ]
  },
  {
   "cell_type": "code",
   "execution_count": 112,
   "id": "58cfcf21",
   "metadata": {},
   "outputs": [
    {
     "data": {
      "text/html": [
       "<div>\n",
       "<style scoped>\n",
       "    .dataframe tbody tr th:only-of-type {\n",
       "        vertical-align: middle;\n",
       "    }\n",
       "\n",
       "    .dataframe tbody tr th {\n",
       "        vertical-align: top;\n",
       "    }\n",
       "\n",
       "    .dataframe thead th {\n",
       "        text-align: right;\n",
       "    }\n",
       "</style>\n",
       "<table border=\"1\" class=\"dataframe\">\n",
       "  <thead>\n",
       "    <tr style=\"text-align: right;\">\n",
       "      <th></th>\n",
       "      <th>Date &amp; Time</th>\n",
       "      <th>Wilberforce_001_Rain(mm)</th>\n",
       "      <th>Gateway_Rain(mm)</th>\n",
       "    </tr>\n",
       "  </thead>\n",
       "  <tbody>\n",
       "    <tr>\n",
       "      <th>0</th>\n",
       "      <td>01/04/2022 00:00</td>\n",
       "      <td>0</td>\n",
       "      <td>0</td>\n",
       "    </tr>\n",
       "    <tr>\n",
       "      <th>1</th>\n",
       "      <td>01/04/2022 00:05</td>\n",
       "      <td>0</td>\n",
       "      <td>0</td>\n",
       "    </tr>\n",
       "    <tr>\n",
       "      <th>2</th>\n",
       "      <td>01/04/2022 00:10</td>\n",
       "      <td>0</td>\n",
       "      <td>0</td>\n",
       "    </tr>\n",
       "    <tr>\n",
       "      <th>3</th>\n",
       "      <td>01/04/2022 00:15</td>\n",
       "      <td>0</td>\n",
       "      <td>0</td>\n",
       "    </tr>\n",
       "    <tr>\n",
       "      <th>4</th>\n",
       "      <td>01/04/2022 00:20</td>\n",
       "      <td>0</td>\n",
       "      <td>0</td>\n",
       "    </tr>\n",
       "    <tr>\n",
       "      <th>...</th>\n",
       "      <td>...</td>\n",
       "      <td>...</td>\n",
       "      <td>...</td>\n",
       "    </tr>\n",
       "    <tr>\n",
       "      <th>117592</th>\n",
       "      <td>14/05/2023 08:25</td>\n",
       "      <td>0</td>\n",
       "      <td>0</td>\n",
       "    </tr>\n",
       "    <tr>\n",
       "      <th>117593</th>\n",
       "      <td>14/05/2023 08:30</td>\n",
       "      <td>0</td>\n",
       "      <td>0</td>\n",
       "    </tr>\n",
       "    <tr>\n",
       "      <th>117594</th>\n",
       "      <td>14/05/2023 08:35</td>\n",
       "      <td>--</td>\n",
       "      <td>0</td>\n",
       "    </tr>\n",
       "    <tr>\n",
       "      <th>117595</th>\n",
       "      <td>14/05/2023 08:40</td>\n",
       "      <td>0</td>\n",
       "      <td>0</td>\n",
       "    </tr>\n",
       "    <tr>\n",
       "      <th>117596</th>\n",
       "      <td>14/05/2023 08:45</td>\n",
       "      <td>0</td>\n",
       "      <td>0</td>\n",
       "    </tr>\n",
       "  </tbody>\n",
       "</table>\n",
       "<p>117597 rows × 3 columns</p>\n",
       "</div>"
      ],
      "text/plain": [
       "             Date & Time Wilberforce_001_Rain(mm) Gateway_Rain(mm)\n",
       "0       01/04/2022 00:00                        0                0\n",
       "1       01/04/2022 00:05                        0                0\n",
       "2       01/04/2022 00:10                        0                0\n",
       "3       01/04/2022 00:15                        0                0\n",
       "4       01/04/2022 00:20                        0                0\n",
       "...                  ...                      ...              ...\n",
       "117592  14/05/2023 08:25                        0                0\n",
       "117593  14/05/2023 08:30                        0                0\n",
       "117594  14/05/2023 08:35                       --                0\n",
       "117595  14/05/2023 08:40                        0                0\n",
       "117596  14/05/2023 08:45                        0                0\n",
       "\n",
       "[117597 rows x 3 columns]"
      ]
     },
     "execution_count": 112,
     "metadata": {},
     "output_type": "execute_result"
    }
   ],
   "source": [
    "df1 = pd.concat(new_men, axis=1)\n",
    "df1"
   ]
  },
  {
   "cell_type": "code",
   "execution_count": 113,
   "id": "e17c2572",
   "metadata": {},
   "outputs": [
    {
     "data": {
      "text/html": [
       "<div>\n",
       "<style scoped>\n",
       "    .dataframe tbody tr th:only-of-type {\n",
       "        vertical-align: middle;\n",
       "    }\n",
       "\n",
       "    .dataframe tbody tr th {\n",
       "        vertical-align: top;\n",
       "    }\n",
       "\n",
       "    .dataframe thead th {\n",
       "        text-align: right;\n",
       "    }\n",
       "</style>\n",
       "<table border=\"1\" class=\"dataframe\">\n",
       "  <thead>\n",
       "    <tr style=\"text-align: right;\">\n",
       "      <th></th>\n",
       "      <th>Date &amp; Time</th>\n",
       "      <th>Wilberforce_001_Rain(mm)</th>\n",
       "      <th>Gateway_Rain(mm)</th>\n",
       "    </tr>\n",
       "  </thead>\n",
       "  <tbody>\n",
       "    <tr>\n",
       "      <th>0</th>\n",
       "      <td>01/04/2022 00:00</td>\n",
       "      <td>0</td>\n",
       "      <td>0</td>\n",
       "    </tr>\n",
       "    <tr>\n",
       "      <th>1</th>\n",
       "      <td>01/04/2022 00:05</td>\n",
       "      <td>0</td>\n",
       "      <td>0</td>\n",
       "    </tr>\n",
       "    <tr>\n",
       "      <th>2</th>\n",
       "      <td>01/04/2022 00:10</td>\n",
       "      <td>0</td>\n",
       "      <td>0</td>\n",
       "    </tr>\n",
       "    <tr>\n",
       "      <th>3</th>\n",
       "      <td>01/04/2022 00:15</td>\n",
       "      <td>0</td>\n",
       "      <td>0</td>\n",
       "    </tr>\n",
       "    <tr>\n",
       "      <th>4</th>\n",
       "      <td>01/04/2022 00:20</td>\n",
       "      <td>0</td>\n",
       "      <td>0</td>\n",
       "    </tr>\n",
       "    <tr>\n",
       "      <th>...</th>\n",
       "      <td>...</td>\n",
       "      <td>...</td>\n",
       "      <td>...</td>\n",
       "    </tr>\n",
       "    <tr>\n",
       "      <th>117592</th>\n",
       "      <td>14/05/2023 08:25</td>\n",
       "      <td>0</td>\n",
       "      <td>0</td>\n",
       "    </tr>\n",
       "    <tr>\n",
       "      <th>117593</th>\n",
       "      <td>14/05/2023 08:30</td>\n",
       "      <td>0</td>\n",
       "      <td>0</td>\n",
       "    </tr>\n",
       "    <tr>\n",
       "      <th>117594</th>\n",
       "      <td>14/05/2023 08:35</td>\n",
       "      <td>NaN</td>\n",
       "      <td>0</td>\n",
       "    </tr>\n",
       "    <tr>\n",
       "      <th>117595</th>\n",
       "      <td>14/05/2023 08:40</td>\n",
       "      <td>0</td>\n",
       "      <td>0</td>\n",
       "    </tr>\n",
       "    <tr>\n",
       "      <th>117596</th>\n",
       "      <td>14/05/2023 08:45</td>\n",
       "      <td>0</td>\n",
       "      <td>0</td>\n",
       "    </tr>\n",
       "  </tbody>\n",
       "</table>\n",
       "<p>117597 rows × 3 columns</p>\n",
       "</div>"
      ],
      "text/plain": [
       "             Date & Time Wilberforce_001_Rain(mm) Gateway_Rain(mm)\n",
       "0       01/04/2022 00:00                        0                0\n",
       "1       01/04/2022 00:05                        0                0\n",
       "2       01/04/2022 00:10                        0                0\n",
       "3       01/04/2022 00:15                        0                0\n",
       "4       01/04/2022 00:20                        0                0\n",
       "...                  ...                      ...              ...\n",
       "117592  14/05/2023 08:25                        0                0\n",
       "117593  14/05/2023 08:30                        0                0\n",
       "117594  14/05/2023 08:35                      NaN                0\n",
       "117595  14/05/2023 08:40                        0                0\n",
       "117596  14/05/2023 08:45                        0                0\n",
       "\n",
       "[117597 rows x 3 columns]"
      ]
     },
     "execution_count": 113,
     "metadata": {},
     "output_type": "execute_result"
    }
   ],
   "source": [
    "#replacing missing values in the dataframe with nan\n",
    "\n",
    "df1= df1.replace('--', np.nan)\n",
    "df1"
   ]
  },
  {
   "cell_type": "code",
   "execution_count": 114,
   "id": "f5e4f347",
   "metadata": {},
   "outputs": [],
   "source": [
    "#changing the data type from object to numeric\n",
    "\n",
    "columns = ['Gateway_Rain(mm)', 'Wilberforce_001_Rain(mm)']\n",
    "\n",
    "df1[columns] = df1[columns].apply(pd.to_numeric)"
   ]
  },
  {
   "cell_type": "code",
   "execution_count": 115,
   "id": "4217fe5f",
   "metadata": {},
   "outputs": [],
   "source": [
    "df1 = df1.replace(0, pd.NA)"
   ]
  },
  {
   "cell_type": "code",
   "execution_count": 116,
   "id": "e9a29bb1",
   "metadata": {},
   "outputs": [],
   "source": [
    "df1.dropna(inplace=True)"
   ]
  },
  {
   "cell_type": "code",
   "execution_count": 117,
   "id": "072cc2b0",
   "metadata": {},
   "outputs": [
    {
     "name": "stdout",
     "output_type": "stream",
     "text": [
      "<class 'pandas.core.frame.DataFrame'>\n",
      "Index: 773 entries, 13543 to 116798\n",
      "Data columns (total 3 columns):\n",
      " #   Column                    Non-Null Count  Dtype \n",
      "---  ------                    --------------  ----- \n",
      " 0   Date & Time               773 non-null    object\n",
      " 1   Wilberforce_001_Rain(mm)  773 non-null    object\n",
      " 2   Gateway_Rain(mm)          773 non-null    object\n",
      "dtypes: object(3)\n",
      "memory usage: 24.2+ KB\n"
     ]
    }
   ],
   "source": [
    "df1.info()"
   ]
  },
  {
   "cell_type": "code",
   "execution_count": 118,
   "id": "b1cb850f",
   "metadata": {},
   "outputs": [],
   "source": [
    "#changing the data type from object to numeric\n",
    "\n",
    "columns = ['Gateway_Rain(mm)', 'Wilberforce_001_Rain(mm)']\n",
    "\n",
    "df1[columns] = df1[columns].apply(pd.to_numeric)"
   ]
  },
  {
   "cell_type": "code",
   "execution_count": 119,
   "id": "aed693c8",
   "metadata": {},
   "outputs": [],
   "source": [
    "# Define the regression model\n",
    "def linear_model(beta, x):\n",
    "    return beta[0]*x - 0"
   ]
  },
  {
   "cell_type": "code",
   "execution_count": 120,
   "id": "03067575",
   "metadata": {},
   "outputs": [],
   "source": [
    "# Create the ODR data object\n",
    "x = df1['Gateway_Rain(mm)']  # Independent variable\n",
    "y = df1['Wilberforce_001_Rain(mm)']  # Dependent variable\n",
    "data = RealData(x, y)"
   ]
  },
  {
   "cell_type": "code",
   "execution_count": 121,
   "id": "61556ad5",
   "metadata": {},
   "outputs": [],
   "source": [
    "# Define the ODR model\n",
    "model = Model(linear_model)"
   ]
  },
  {
   "cell_type": "code",
   "execution_count": 122,
   "id": "9e9f841f",
   "metadata": {},
   "outputs": [
    {
     "name": "stdout",
     "output_type": "stream",
     "text": [
      "Beta: [0.97445603]\n",
      "Beta Std Error: [0.02926899]\n",
      "Beta Covariance: [[8.7140012e-05]]\n",
      "Residual Variance: 9.831006073008218\n",
      "Inverse Condition #: 1.0\n",
      "Reason(s) for Halting:\n",
      "  Sum of squares convergence\n"
     ]
    }
   ],
   "source": [
    "# Perform the ODR regression\n",
    "odr = ODR(data, model, beta0=[1])  # Initial guess for the parameter\n",
    "odr_result = odr.run()\n",
    "odr.set_job(fit_type=0)\n",
    "\n",
    "odr_result.pprint()"
   ]
  },
  {
   "cell_type": "code",
   "execution_count": 123,
   "id": "afbbc186",
   "metadata": {},
   "outputs": [
    {
     "name": "stdout",
     "output_type": "stream",
     "text": [
      "Optimized parameter (slope): 0.9744560299636512\n"
     ]
    }
   ],
   "source": [
    "# Get the optimized parameters\n",
    "beta_optimized = odr_result.beta\n",
    "\n",
    "# Print the optimized parameters\n",
    "slope = beta_optimized[0]\n",
    "print(\"Optimized parameter (slope):\", slope)"
   ]
  },
  {
   "cell_type": "code",
   "execution_count": 124,
   "id": "d30a7d1e",
   "metadata": {},
   "outputs": [],
   "source": [
    "# Compute R-squared value\n",
    "y_predicted = linear_model(beta_optimized, x)\n",
    "ss_total = np.sum((y - np.mean(y))**2)\n",
    "ss_residual = np.sum((y - y_predicted)**2)\n",
    "r_squared = 1 - (ss_residual / ss_total)\n",
    "#print(\"R-squared:\", r_squared"
   ]
  },
  {
   "cell_type": "code",
   "execution_count": 125,
   "id": "a790ea67",
   "metadata": {},
   "outputs": [
    {
     "data": {
      "image/png": "[encoded data removed]",
      "text/plain": [
       "<Figure size 640x480 with 1 Axes>"
      ]
     },
     "metadata": {},
     "output_type": "display_data"
    }
   ],
   "source": [
    "# Plot the data points and regression line\n",
    "plt.scatter(x, y)\n",
    "plt.plot(x, y_predicted, color='red', label=f'Trendline (R-squared: {r_squared:.2f})')\n",
    "plt.xlabel('Gateway')\n",
    "plt.ylabel('Wilberforce_001')\n",
    "plt.title('Orthogonal Distance Regression for Gateway and Wilberforce_001 Between April 2022 - May 2023')\n",
    "\n",
    "# Show legend\n",
    "plt.legend()\n",
    "\n",
    "\n",
    "\n",
    "# Add equation of the trendline\n",
    "equation = f'y = {slope:.2f}x'\n",
    "plt.text(15, 35, equation, fontsize=12)\n",
    "\n",
    "plt.show()"
   ]
  },
  {
   "cell_type": "code",
   "execution_count": null,
   "id": "93f0502b",
   "metadata": {},
   "outputs": [],
   "source": []
  }
 ],
 "metadata": {
  "kernelspec": {
   "display_name": "Python 3 (ipykernel)",
   "language": "python",
   "name": "python3"
  },
  "language_info": {
   "codemirror_mode": {
    "name": "ipython",
    "version": 3
   },
   "file_extension": ".py",
   "mimetype": "text/x-python",
   "name": "python",
   "nbconvert_exporter": "python",
   "pygments_lexer": "ipython3",
   "version": "3.9.12"
  }
 },
 "nbformat": 4,
 "nbformat_minor": 5
}
